{
 "cells": [
  {
   "cell_type": "markdown",
   "metadata": {},
   "source": [
    "## III. Lenguajes para el análisis de secuencias\n",
    "1. Linux\n",
    "2. Python \n",
    "3. R\n",
    "4. Instalación de programas"
   ]
  },
  {
   "cell_type": "markdown",
   "metadata": {},
   "source": [
    "# 1. Linux\n",
    "\n",
    "## Unix\n",
    "El sistema operativo Unix tiene sus inicios en 1969 en los laboratorio Bell de AT&T. Ken Thompson lo desarrolló y posteriormente, colaboró con Dennis Ritchie, creador del lenguaje C, para hacerlo un sistema operativo transportable. Con el paso del tiempo se hizo un sistema independiente y de [libre acceso](http://histinf.blogs.upv.es/2011/12/23/historia-de-linux/)\n",
    "Es ampliamente utilizado en los servidores y supercomputadoras, independientemente que cada fabricante de computadoras tiene su propio sistema operativo. \n",
    "\n",
    "\n",
    "## Software libre\n",
    "\n",
    "La implementación de programas o software libre o sin costo tiene una historia larga. \n",
    "\n",
    "El movimiento de sorftware libre surgió como un medio para no someterse al poder de los desarrolladores del software. Es un movimiento que busca la libertad del usuario de cómputo y cuenta con su página en The Free Software Foundation [(FSF)](https://www.fsf.org). Asimismo está el licenciamiento de los programas para que el usuario sea capaz de modificarlo a sus necesidades. Esta licencia se encuentra en términos generales por [Creative Commons](https://creativecommons.org/licenses/by-sa/4.0/) \n",
    "\n",
    "Esto requiere un sistema operativo y un núcleo o core para su funcionamiento.\n",
    "\n",
    "## [Gnu](http://www.gnu.org) (ñu) \n",
    "![](http://www.gnu.org/graphics/heckert_gnu.transp.small.png)\n",
    "Es un sistema operativo que no tiene costo y permite que el usuario tenga el control de lo que se instala en su computadora. \n",
    "## Linux\n",
    "![logo](http://histinf.blogs.upv.es/files/2011/12/21.png)\n",
    "Es el núcleo o kernel general que utiliza sintaxis similar a Unix en las computadoras personales y como un movimiento en contra del monopolio de Windows.\n",
    "![](http://histinf.blogs.upv.es/files/2011/12/23.png)\n",
    "\n",
    "## Gnu/Linux \n",
    "![Gnu/Linux](http://www.gnu.org/graphics/gnu-and-penguin-color-300x276.jpg)\n",
    "Es el sistema más utilizado para las computadoras personales de uso personal con software libre.\n"
   ]
  },
  {
   "cell_type": "markdown",
   "metadata": {},
   "source": [
    "Se darán unos íconos utilizados en este curso.\n",
    "\n"
   ]
  }
 ],
 "metadata": {
  "kernelspec": {
   "display_name": "Python 3",
   "language": "python",
   "name": "python3"
  },
  "language_info": {
   "codemirror_mode": {
    "name": "ipython",
    "version": 3
   },
   "file_extension": ".py",
   "mimetype": "text/x-python",
   "name": "python",
   "nbconvert_exporter": "python",
   "pygments_lexer": "ipython3",
   "version": "3.6.4"
  }
 },
 "nbformat": 4,
 "nbformat_minor": 2
}
