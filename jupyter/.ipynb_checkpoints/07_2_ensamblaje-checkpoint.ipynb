{
 "cells": [
  {
   "cell_type": "markdown",
   "metadata": {},
   "source": [
    "# Ensamblaje de contigs con Trinity\n",
    "https://github.com/trinityrnaseq/trinityrnaseq/wiki"
   ]
  },
  {
   "cell_type": "code",
   "execution_count": null,
   "metadata": {},
   "outputs": [],
   "source": [
    "cd ~/Desktop/data/ejercicio_ensamblaje/"
   ]
  },
  {
   "cell_type": "code",
   "execution_count": null,
   "metadata": {},
   "outputs": [],
   "source": [
    "ls "
   ]
  },
  {
   "cell_type": "markdown",
   "metadata": {},
   "source": [
    "### Se requiere utilizar los archivos obtenidos con el trim_galore\n",
    "`\n",
    "8_S356_L001_R1_001_val_1.fq\n",
    "8_S356_L001_R2_001_val_2.fq`"
   ]
  },
  {
   "cell_type": "code",
   "execution_count": null,
   "metadata": {},
   "outputs": [],
   "source": [
    "ls ~/Desktop/data/ejercicio_fastqc/*.fq"
   ]
  },
  {
   "cell_type": "code",
   "execution_count": null,
   "metadata": {
    "scrolled": true
   },
   "outputs": [],
   "source": [
    "%%bash\n",
    "date \n",
    "time Trinity \\\n",
    "--seqType fq \\\n",
    "--max_memory 8G \\\n",
    "--CPU 8 \\\n",
    "--left  ~/Desktop/data/ejercicio_fastqc/8_S356_L001_R1_001_val_1.fq \\\n",
    "--right ~/Desktop/data/ejercicio_fastqc/8_S356_L001_R2_001_val_2.fq \\\n",
    "--min_contig_length 200 \\\n",
    "--output trinity\n",
    "date"
   ]
  },
  {
   "cell_type": "code",
   "execution_count": null,
   "metadata": {},
   "outputs": [],
   "source": [
    "!date"
   ]
  },
  {
   "cell_type": "code",
   "execution_count": null,
   "metadata": {},
   "outputs": [],
   "source": [
    "cd ~/Desktop/data/ejercicio_ensamblaje/trinity/"
   ]
  },
  {
   "cell_type": "code",
   "execution_count": null,
   "metadata": {},
   "outputs": [],
   "source": [
    "ls -lh"
   ]
  },
  {
   "cell_type": "code",
   "execution_count": null,
   "metadata": {},
   "outputs": [],
   "source": [
    "!head Trinity.fasta"
   ]
  },
  {
   "cell_type": "code",
   "execution_count": null,
   "metadata": {},
   "outputs": [],
   "source": [
    "!grep \">\" ../trinity/Trinity.fasta |wc -l"
   ]
  },
  {
   "cell_type": "code",
   "execution_count": null,
   "metadata": {},
   "outputs": [],
   "source": [
    "from Bio import SeqIO\n",
    "from pandas import DataFrame\n",
    "import pandas as pd\n",
    "from Bio.SeqUtils import GC\n",
    "import pylab as pl\n",
    "from pylab import *\n",
    "import os"
   ]
  },
  {
   "cell_type": "code",
   "execution_count": null,
   "metadata": {},
   "outputs": [],
   "source": [
    "# Funcion para determinar el grado de CpG que son regiones asociadas con la presencia de proteínas\n",
    "def cpg(secuencia):\n",
    "    g= secuencia.count(\"G\")\n",
    "    c= secuencia.count(\"C\")\n",
    "    cg= secuencia.count(\"CG\")\n",
    "    lar= len(secuencia)\n",
    "    cpG=0\n",
    "    try:\n",
    "        g*c==0\n",
    "    except:\n",
    "        cpG=0\n",
    "    else:\n",
    "        if g == 0 or c== 0:\n",
    "            cpG =0\n",
    "        else:\n",
    "            cpG=(round(cg/(g*c)*(lar**2/(lar-1)) ,8))\n",
    "    return (cpG)"
   ]
  },
  {
   "cell_type": "code",
   "execution_count": null,
   "metadata": {},
   "outputs": [],
   "source": [
    "f = open('../trinity/Trinity.fasta', 'r')\n",
    "sizes = [(rec.name, len(rec), round(GC(rec.seq),4), cpg(rec.seq)) for rec in SeqIO.parse(f, \"fasta\")]\n",
    "sizes = DataFrame(sizes,columns= [\"contigs\", \"length\", \"GC\", \"CpG\"])\n",
    "sizes.head(2)"
   ]
  },
  {
   "cell_type": "code",
   "execution_count": null,
   "metadata": {},
   "outputs": [],
   "source": [
    "sizes.describe().round(3)"
   ]
  },
  {
   "cell_type": "code",
   "execution_count": null,
   "metadata": {},
   "outputs": [],
   "source": [
    "pwd"
   ]
  },
  {
   "cell_type": "code",
   "execution_count": null,
   "metadata": {},
   "outputs": [],
   "source": [
    "os.makedirs('img',exist_ok=True)"
   ]
  },
  {
   "cell_type": "code",
   "execution_count": null,
   "metadata": {},
   "outputs": [],
   "source": [
    "pl.hist(sizes['length'], bins=20)\n",
    "pl.title(\"%i ../trinity/Trinity.fasta\\nLengths %i to %i\" \\\n",
    "            % (len(sizes[\"length\"]),min(sizes['length']),max(sizes['length'])))\n",
    "pl.xlabel(\"Sequence length (bp)\")\n",
    "pl.ylabel(\"Count\")\n",
    "yes = input(\"save figure? \")\n",
    "if yes.lower()==\"y\":\n",
    "    plt.savefig('./img/710transcritos_length.png', dpi=800, bbox_inches='tight')\n",
    "\n",
    "pl.show()"
   ]
  },
  {
   "cell_type": "code",
   "execution_count": null,
   "metadata": {},
   "outputs": [],
   "source": [
    "sizes1 = sizes['length'].value_counts(normalize=False, sort=False, ascending=False, \n",
    "                                  bins=range(min(sizes['length']),sizes['length'].max()+100,100), dropna=True)\n",
    "sizes1"
   ]
  },
  {
   "cell_type": "code",
   "execution_count": null,
   "metadata": {},
   "outputs": [],
   "source": [
    "pl.hist(sizes['GC'], bins=20)\n",
    "pl.title(\"%i ../trinity/Trinity.fasta\\nGC %i to %i\" \\\n",
    "            % (len(sizes[\"length\"]),min(sizes['length']),max(sizes['length'])))\n",
    "pl.xlabel(\"GC content (%)\")\n",
    "pl.ylabel(\"Count\")\n",
    "yes = input(\"save figure? \")\n",
    "if yes.lower()==\"y\":\n",
    "    plt.savefig('./img/710transcritos_GC.png', dpi=800, bbox_inches='tight')\n",
    "\n",
    "pl.show()"
   ]
  },
  {
   "cell_type": "code",
   "execution_count": null,
   "metadata": {},
   "outputs": [],
   "source": [
    "sizesgc = sizes['GC'].value_counts(normalize=False, sort=False, ascending=False, \n",
    "                                  bins=range(int(sizes['GC'].min()),int(sizes['GC'].max()+10),10), dropna=True)\n",
    "sizesgc"
   ]
  },
  {
   "cell_type": "code",
   "execution_count": null,
   "metadata": {},
   "outputs": [],
   "source": [
    "pl.hist(sizes['CpG'], bins=20)\n",
    "pl.title(\"%i ../trinity/Trinity.fasta\\nCpG %i to %i\" \\\n",
    "            % (len(sizes[\"length\"]),min(sizes['length']),max(sizes['length'])))\n",
    "pl.xlabel(\"CpG content\")\n",
    "pl.ylabel(\"Count\")\n",
    "yes = input(\"save figure? \")\n",
    "if yes.lower()==\"y\":\n",
    "    plt.savefig('./img/710transcritos_CpG.png', dpi=800, bbox_inches='tight')\n",
    "\n",
    "\n",
    "pl.show()"
   ]
  },
  {
   "cell_type": "code",
   "execution_count": null,
   "metadata": {},
   "outputs": [],
   "source": []
  },
  {
   "cell_type": "code",
   "execution_count": null,
   "metadata": {},
   "outputs": [],
   "source": []
  },
  {
   "cell_type": "code",
   "execution_count": null,
   "metadata": {},
   "outputs": [],
   "source": []
  },
  {
   "cell_type": "code",
   "execution_count": null,
   "metadata": {},
   "outputs": [],
   "source": []
  }
 ],
 "metadata": {
  "kernelspec": {
   "display_name": "Python 3",
   "language": "python",
   "name": "python3"
  },
  "language_info": {
   "codemirror_mode": {
    "name": "ipython",
    "version": 3
   },
   "file_extension": ".py",
   "mimetype": "text/x-python",
   "name": "python",
   "nbconvert_exporter": "python",
   "pygments_lexer": "ipython3",
   "version": "3.6.5"
  }
 },
 "nbformat": 4,
 "nbformat_minor": 2
}
