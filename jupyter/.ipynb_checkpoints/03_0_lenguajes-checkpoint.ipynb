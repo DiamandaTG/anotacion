{
 "cells": [
  {
   "cell_type": "markdown",
   "metadata": {},
   "source": [
    "## III. Lenguajes para el análisis de secuencias\n",
    "1. Linux\n",
    "2. Python \n",
    "3. R\n",
    "4. Instalación de programas"
   ]
  },
  {
   "cell_type": "markdown",
   "metadata": {},
   "source": [
    "# 1. Linux\n",
    "\n",
    "## Unix\n",
    "El sistema operativo Unix tiene sus inicios en 1969 en los laboratorio Bell de AT&T. Ken Thompson lo desarrolló y posteriormente, colaboró con Dennis Ritchie, creador del lenguaje C, para hacerlo un sistema operativo transportable. Con el paso del tiempo se hizo un sistema independiente y de [libre acceso](http://histinf.blogs.upv.es/2011/12/23/historia-de-linux/)\n",
    "Es ampliamente utilizado en los servidores y supercomputadoras, independientemente que cada fabricante de computadoras tiene su propio sistema operativo. \n",
    "\n",
    "\n",
    "## Software libre\n",
    "\n",
    "La implementación de programas o software libre o sin costo tiene una historia larga. \n",
    "\n",
    "El movimiento de sorftware libre surgió como un medio para no someterse al poder de los desarrolladores del software. Es un movimiento que busca la libertad del usuario de cómputo y cuenta con su página en The Free Software Foundation [(FSF)](https://www.fsf.org). Esta fundación se dedica a que [no haya restricciones sobre la copia, redistribución, entendimiento, y modificación de programas de computadoras](https://es.wikipedia.org/wiki/Portal:Software_libre). \n",
    "\n",
    "Asimismo está el licenciamiento de los programas para que el usuario sea capaz de modificarlo a sus necesidades. Esta licencia se encuentra en términos generales por [Creative Commons](https://creativecommons.org/licenses/by-sa/4.0/) \n",
    "\n",
    "Esto requiere un sistema operativo y un núcleo o core para su funcionamiento.\n",
    "\n",
    "## [Gnu](http://www.gnu.org) (ñu) \n",
    "![](http://www.gnu.org/graphics/heckert_gnu.transp.small.png)\n",
    "Es un sistema operativo que no tiene costo y permite que el usuario tenga el control de lo que se instala en su computadora. \n",
    "## Linux\n",
    "![logo](http://histinf.blogs.upv.es/files/2011/12/21.png)\n",
    "Es el núcleo o kernel general que utiliza sintaxis similar a Unix en las computadoras personales y como un movimiento en contra del monopolio de Windows.\n",
    "![](http://histinf.blogs.upv.es/files/2011/12/23.png)\n",
    "\n",
    "## Gnu/Linux \n",
    "![Gnu/Linux](http://www.gnu.org/graphics/gnu-and-penguin-color-300x276.jpg)\n",
    "Es el sistema más utilizado para las computadoras personales de uso personal con software libre.\n"
   ]
  },
  {
   "cell_type": "markdown",
   "metadata": {},
   "source": [
    "# 2. Python\n",
    "![](https://www.python.org/static/img/python-logo.png)\n",
    "[Es un leguaje de programación tipo intérprete, interactivo y orientado a objetos](https://docs.python.org/3/faq/general.html#what-is-python), que incorpora módulos, excepciones, escritura dinámica, tipos de datos dinámicos a un nivel elevado. Combina un gran pocer y una sintaxis clara. Tiene interfaces a muchos sistemas y muchas bibliotecas, así como a sistemas de ventanas. Se puede hacer extensible a códigos de C o C++. Así como un lenguaje de extensión para aplicaciones que requieren de una interfase programable. Se puede ejecutar en muchas variantes de Unix, en los iOS (Mac) y en Windows 2000 en adelante.\n",
    "Fue creado por Guido van Rossum y se rige por una [filosofía](http://www.thezenofpython.com).\n",
    "\n",
    "1. Lindo es mejor que feo.\n",
    "2. Explícito es mejor que implícito.\n",
    "3. Simple es mejor que complejo.\n",
    "4. Complejo es mejor que complicado.\n",
    "5. Plano es mejor que anidado.\n",
    "6. Espaciado es mejor que denso.\n",
    "7. La legibilidad es importante.\n",
    "8. Los casos especiales no son lo suficientemente especiales como para romper las reglas.\n",
    "9. Sin embargo la practicidad le gana a la pureza.\n",
    "10. Los errores nunca deberían pasar silenciosamente.\n",
    "11. A menos que se silencien explícitamente.\n",
    "12. Frente a la ambigüedad, evitá la tentación de adivinar.\n",
    "13. Debería haber una, y solamente una, manera obvia de hacerlo.\n",
    "14. A pesar de que no sea obvio a menos que seas Holandés (como GvR)\n",
    "15. Ahora es mejor que nunca.\n",
    "16. A pesar de que nunca es muchas veces mejor que justo ahora.\n",
    "17. Si la implementación es dificil de explicar, es una mala idea.\n",
    "18. Si la implementación es fácil de explicar, quizás sea una buena idea.\n",
    "19. Los espacios de nombres son una gran idea, ¡tengamos más de esas!\n",
    "\n",
    "(https://es.wikipedia.org/wiki/Zen_de_Python)"
   ]
  },
  {
   "cell_type": "code",
   "execution_count": 3,
   "metadata": {},
   "outputs": [],
   "source": [
    "# Easter Egg\n",
    "# esta filosofía se puede invocar desde python con el siguiente comando"
   ]
  },
  {
   "cell_type": "code",
   "execution_count": 4,
   "metadata": {},
   "outputs": [],
   "source": [
    "import this"
   ]
  },
  {
   "cell_type": "markdown",
   "metadata": {},
   "source": [
    "(https://github.com/python/peps/blob/master/pep-0020.txt)"
   ]
  },
  {
   "cell_type": "markdown",
   "metadata": {},
   "source": [
    "Se considera que python es un lenguaje de propósito general. Se le usa desde la elaboración de códigos muy sencillos hasta en servidores que ofrecen servicios 24/7. Asimismo, debido a que es relativamente sencillo de aprender, es ampliamente aceptado por científicos y por niños que empiezan a programar.\n",
    "Su historia se remota a fines de los 80s y principios de los [90s](https://es.wikipedia.org/wiki/Historia_de_Python)."
   ]
  },
  {
   "cell_type": "markdown",
   "metadata": {},
   "source": [
    "### Derivaciones "
   ]
  },
  {
   "cell_type": "markdown",
   "metadata": {},
   "source": [
    "Muchos personas han desarrollado diferetes formas de hacer más fácil el uso de python. Por ejemplo: \n",
    "### [IPython](https://es.wikipedia.org/wiki/IPython) \n",
    "![](https://ipython.org/_static/IPy_header.png)\n",
    "\n",
    "es una terminal(shell) que permite una actividad interactiva que agrega ciertas  funcionalidades al modo interactivo incluido con Python. Estas funcionalidades son, entre otras: resaltado de líneas y errores mediante colores, una sintaxis adicional para la terminal, autocompletado mediante tabulador de variables, módulos y atributos; entre otras funcionalidades. Es un componente del paquete SciPy, el cual ha sido desarrollado para apoyo a aspectos científicos.\n",
    "### [Jupyter](https://jupyter.org/about)\n",
    "![](https://jupyter.org/assets/nav_logo.svg)\n",
    "\n",
    "El proyecto Jupyter es derivado del Ipython y es una proyecto libre de lucro y de código abierto. Está considerado como de soporte para el cómputo científico interactivo para todos los lenguajes de programación. Se dice que Jupyter siempre será un software 100% de código abierto. Se implementó a partir del lenguaje [Julia](https://julialang.org) para navegar en la red, [Python](https://www.python.org) y [R](https://cran.r-project.org).\n",
    "\n",
    "#### [Bitácora electrónica Jypyter](https://jupyter-notebook.readthedocs.io/en/stable/)\n",
    "<img src=\"https://jupyter.org/assets/jupyterpreview.png\" width=\"30%\">\n",
    "es una aplicación que se ejecuta en el navegador de la red (web) y que permite hacer un seguimiento de los comandos utilizados. El lenguaje por omisión suele ser Python 3, por lo que en este curso es el lenguaje por omisión. Inicialmente se utilizaban núcleos (kernels) de Python y R, pero en la actualidad existe ya núcleos para otros lenguajes"
   ]
  },
  {
   "cell_type": "code",
   "execution_count": null,
   "metadata": {},
   "outputs": [],
   "source": []
  }
 ],
 "metadata": {
  "kernelspec": {
   "display_name": "Python 3",
   "language": "python",
   "name": "python3"
  },
  "language_info": {
   "codemirror_mode": {
    "name": "ipython",
    "version": 3
   },
   "file_extension": ".py",
   "mimetype": "text/x-python",
   "name": "python",
   "nbconvert_exporter": "python",
   "pygments_lexer": "ipython3",
   "version": "3.6.5"
  }
 },
 "nbformat": 4,
 "nbformat_minor": 2
}
