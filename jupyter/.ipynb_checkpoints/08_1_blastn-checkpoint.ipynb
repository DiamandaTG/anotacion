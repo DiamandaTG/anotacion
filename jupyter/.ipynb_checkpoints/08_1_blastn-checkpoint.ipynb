{
 "cells": [
  {
   "cell_type": "markdown",
   "metadata": {},
   "source": [
    "# Bitacora para el manejo de secuencias ensambladas y búsqueda con *Blastn*"
   ]
  },
  {
   "cell_type": "markdown",
   "metadata": {},
   "source": [
    "## Para el siguiente ejercicio es necesario tener el Blast+ instalado en la computadora\n",
    "https://www.ncbi.nlm.nih.gov/guide/data-software/"
   ]
  },
  {
   "cell_type": "markdown",
   "metadata": {},
   "source": [
    "## Se utilizarán los contigs formados por el ensamblaje que se localizan en \n",
    "`~/Desktop/data/ejercicio_ensamblaje/8_S356_contigs.fa`"
   ]
  },
  {
   "cell_type": "code",
   "execution_count": null,
   "metadata": {},
   "outputs": [],
   "source": [
    "from pandas import Series, DataFrame\n",
    "import pandas as pd\n",
    "from Bio import SeqIO, AlignIO, SeqRecord\n",
    "from Bio.SeqRecord import SeqRecord\n",
    "from Bio.Seq import Seq\n",
    "import matplotlib.pyplot as plt \n",
    "import os"
   ]
  },
  {
   "cell_type": "code",
   "execution_count": null,
   "metadata": {},
   "outputs": [],
   "source": [
    "os.makedirs('img',exist_ok=True)"
   ]
  },
  {
   "cell_type": "code",
   "execution_count": null,
   "metadata": {},
   "outputs": [],
   "source": [
    "cd ~/Desktop/data/ejercicio_ensamblaje/"
   ]
  },
  {
   "cell_type": "code",
   "execution_count": null,
   "metadata": {},
   "outputs": [],
   "source": [
    "ls "
   ]
  },
  {
   "cell_type": "code",
   "execution_count": null,
   "metadata": {},
   "outputs": [],
   "source": [
    "!grep \">\" 8_S356_contigs.fa |wc -l"
   ]
  },
  {
   "cell_type": "markdown",
   "metadata": {},
   "source": [
    "# Se analizarán con blastx los contigs obtenidos a la base de datos *nt*"
   ]
  },
  {
   "cell_type": "markdown",
   "metadata": {},
   "source": [
    "Verifique la localización de la base de datos, en este caso se encuentra en `~/DATA/nt/`"
   ]
  },
  {
   "cell_type": "code",
   "execution_count": null,
   "metadata": {},
   "outputs": [],
   "source": [
    "%%bash\n",
    "export BLASTDB=~/DATA/nt/\n",
    "\n",
    "date  \n",
    "time blastn -query 8_S356_contigs.fa  -db ~/DATA/nt/nt \\\n",
    "-out 8_S356_contigs.tab -evalue 1E-6 -max_target_seqs 1 \\\n",
    "-num_threads 2 -outfmt \"6 std sskingdoms stitle staxids sscinames scomnames sblastnames\" \n",
    "date"
   ]
  },
  {
   "cell_type": "code",
   "execution_count": null,
   "metadata": {},
   "outputs": [],
   "source": [
    "!date"
   ]
  },
  {
   "cell_type": "code",
   "execution_count": null,
   "metadata": {},
   "outputs": [],
   "source": [
    "!head -2 8_S356_contigs.tab"
   ]
  },
  {
   "cell_type": "code",
   "execution_count": null,
   "metadata": {},
   "outputs": [],
   "source": [
    "encabezado =(\"qseqid\", \"sseqid\", \"pident\", \"length\", \"mismatch\", \"gapopen\",\"qstart\", \n",
    "             \"qend\", \"sstart\",\"send\", \"evalue\", \"bitscore\", \"sskingdoms\", \"stitle\", \n",
    "             \"staxids\", \"sscinames\", \"scomnames\", \"sblastnames\")"
   ]
  },
  {
   "cell_type": "code",
   "execution_count": null,
   "metadata": {
    "scrolled": false
   },
   "outputs": [],
   "source": [
    "ftab=pd.read_table(\"8_S356_contigs.tab\", header=None , names= encabezado)\n",
    "ftab.head()"
   ]
  },
  {
   "cell_type": "code",
   "execution_count": null,
   "metadata": {
    "scrolled": false
   },
   "outputs": [],
   "source": [
    "len(ftab)"
   ]
  },
  {
   "cell_type": "code",
   "execution_count": null,
   "metadata": {
    "scrolled": false
   },
   "outputs": [],
   "source": [
    "ftab1= ftab.groupby(\"sskingdoms\")[\"qseqid\"].count()\n",
    "ftab1 = DataFrame(ftab1)\n",
    "ftab1"
   ]
  },
  {
   "cell_type": "markdown",
   "metadata": {},
   "source": [
    "# Cuántos contigs no son eucariotas?"
   ]
  },
  {
   "cell_type": "code",
   "execution_count": null,
   "metadata": {},
   "outputs": [],
   "source": []
  },
  {
   "cell_type": "markdown",
   "metadata": {},
   "source": [
    "## Guadardo la base de datos en formato csv"
   ]
  },
  {
   "cell_type": "code",
   "execution_count": null,
   "metadata": {},
   "outputs": [],
   "source": [
    "ftab.to_csv(\"8_S356_contigs_blastn.csv\", header=True, index= None)"
   ]
  },
  {
   "cell_type": "markdown",
   "metadata": {},
   "source": [
    "### en caso de haber el hecho el análisis previo y querer recuperar el archivo anterior "
   ]
  },
  {
   "cell_type": "code",
   "execution_count": null,
   "metadata": {},
   "outputs": [],
   "source": [
    "ftab= pd.read_csv(\"8_S356_contigs_blastn.csv\")\n",
    "ftab.head(2)"
   ]
  },
  {
   "cell_type": "code",
   "execution_count": null,
   "metadata": {},
   "outputs": [],
   "source": []
  },
  {
   "cell_type": "code",
   "execution_count": null,
   "metadata": {},
   "outputs": [],
   "source": []
  },
  {
   "cell_type": "markdown",
   "metadata": {},
   "source": [
    "# Hay algún contig con más de una asignación (duplicados)?"
   ]
  },
  {
   "cell_type": "code",
   "execution_count": null,
   "metadata": {
    "scrolled": true
   },
   "outputs": [],
   "source": [
    "ftab1= ftab.groupby(\"qseqid\")[\"qseqid\"].count()\n",
    "ftab1 = DataFrame(ftab1)\n",
    "ftab1"
   ]
  },
  {
   "cell_type": "code",
   "execution_count": null,
   "metadata": {},
   "outputs": [],
   "source": []
  },
  {
   "cell_type": "markdown",
   "metadata": {},
   "source": [
    "# Es necesario eliminar duplicados"
   ]
  },
  {
   "cell_type": "code",
   "execution_count": null,
   "metadata": {
    "scrolled": true
   },
   "outputs": [],
   "source": [
    "ftab1 =ftab.drop_duplicates(subset = 'qseqid', keep='first', inplace = False)\n",
    "ftab1"
   ]
  },
  {
   "cell_type": "markdown",
   "metadata": {},
   "source": [
    "# Cuántos grupos hay a parte de peces?"
   ]
  },
  {
   "cell_type": "code",
   "execution_count": null,
   "metadata": {
    "scrolled": false
   },
   "outputs": [],
   "source": [
    "ftab2= ftab1.groupby(\"sblastnames\")[\"qseqid\"].count()\n",
    "ftab2 = DataFrame(ftab2)\n",
    "ftab2"
   ]
  },
  {
   "cell_type": "code",
   "execution_count": null,
   "metadata": {
    "scrolled": false
   },
   "outputs": [],
   "source": [
    "ftab2= ftab1.groupby(\"sscinames\")[\"qseqid\"].count()\n",
    "ftab2.sort_values(axis = 0, ascending=False, inplace=True)\n",
    "ftab2"
   ]
  },
  {
   "cell_type": "markdown",
   "metadata": {},
   "source": [
    "# procedimiento para simplificar tabla y graficar las 10 primeras categorías y el resto ponerlas en \"otras\""
   ]
  },
  {
   "cell_type": "code",
   "execution_count": null,
   "metadata": {},
   "outputs": [],
   "source": [
    "linea10=ftab2[:10]\n",
    "linea11=ftab2[10:]\n",
    "#linea10\n",
    "otro=sum (linea11)\n",
    "#otro\n",
    "otros = pd.DataFrame({0:otro}, index=[\"Other\"])\n",
    "otros\n",
    "linea10=linea10.append(otros)\n",
    "linea10"
   ]
  },
  {
   "cell_type": "code",
   "execution_count": null,
   "metadata": {},
   "outputs": [],
   "source": [
    "linea10.plot(kind='barh', figsize= (8,6))\n",
    "plt.axis([-1, max(linea10[0])+5, -1, 10.8], label=None)\n",
    "plt.legend().set_visible(False)\n",
    "plt.xlabel(\"Frecuencia\")\n",
    "plt.ylabel(\"Especies\")\n",
    "plt.title(\"Especies con resultado de blastn\")\n",
    "plt.show()"
   ]
  },
  {
   "cell_type": "code",
   "execution_count": null,
   "metadata": {},
   "outputs": [],
   "source": []
  },
  {
   "cell_type": "code",
   "execution_count": null,
   "metadata": {},
   "outputs": [],
   "source": []
  }
 ],
 "metadata": {
  "kernelspec": {
   "display_name": "Python 3",
   "language": "python",
   "name": "python3"
  },
  "language_info": {
   "codemirror_mode": {
    "name": "ipython",
    "version": 3
   },
   "file_extension": ".py",
   "mimetype": "text/x-python",
   "name": "python",
   "nbconvert_exporter": "python",
   "pygments_lexer": "ipython3",
   "version": "3.6.5"
  }
 },
 "nbformat": 4,
 "nbformat_minor": 2
}
