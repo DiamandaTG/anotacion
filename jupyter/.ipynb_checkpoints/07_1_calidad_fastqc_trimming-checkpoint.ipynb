{
 "cells": [
  {
   "cell_type": "markdown",
   "metadata": {},
   "source": [
    "# Procedimiento para analizar la calidad de las secuencias con FastQC y eliminación de las regiones de baja calidad."
   ]
  },
  {
   "cell_type": "markdown",
   "metadata": {},
   "source": [
    "# FastQC\n",
    "Se puede encontrar más información en las siguientes páginas"
   ]
  },
  {
   "cell_type": "markdown",
   "metadata": {},
   "source": [
    "http://www.bioinformatics.babraham.ac.uk/projects/fastqc/\n",
    "<img src=\"img/fastqc1.png\">\n"
   ]
  },
  {
   "cell_type": "markdown",
   "metadata": {},
   "source": [
    "http://www.bioinformatics.babraham.ac.uk/projects/download.html#fastqc\n",
    "<img src=\"img/fastqc2.png\">\n",
    "\n"
   ]
  },
  {
   "cell_type": "markdown",
   "metadata": {},
   "source": [
    "# Asimismo, las secuencias tienen adaptadores, los cuales debes ser removidos\n",
    "# Se utiliza el programa Trim_galore"
   ]
  },
  {
   "cell_type": "markdown",
   "metadata": {},
   "source": [
    "https://www.bioinformatics.babraham.ac.uk/projects/trim_galore/\n",
    "\n",
    "<img src=\"./img/trim_galore.png\">\n"
   ]
  },
  {
   "cell_type": "markdown",
   "metadata": {},
   "source": [
    "https://www.bioinformatics.babraham.ac.uk/projects/download.html#trim_galore\n",
    "\n",
    "<img src=\"img/trim_galore2.png\">\n"
   ]
  },
  {
   "cell_type": "markdown",
   "metadata": {},
   "source": [
    "#### al final de la página"
   ]
  },
  {
   "cell_type": "markdown",
   "metadata": {},
   "source": [
    "https://www.bioinformatics.babraham.ac.uk/projects/download.html#trim_galore\n",
    "<img src=\"img/trim_galore3.png\">\n"
   ]
  },
  {
   "cell_type": "code",
   "execution_count": null,
   "metadata": {},
   "outputs": [],
   "source": [
    "import os\n",
    "import zipfile\n",
    "from IPython.display import display, Image"
   ]
  },
  {
   "cell_type": "code",
   "execution_count": null,
   "metadata": {},
   "outputs": [],
   "source": [
    "pwd"
   ]
  },
  {
   "cell_type": "code",
   "execution_count": null,
   "metadata": {},
   "outputs": [],
   "source": [
    "cd ~/Desktop/data/ejercicio_fastqc"
   ]
  },
  {
   "cell_type": "code",
   "execution_count": null,
   "metadata": {},
   "outputs": [],
   "source": [
    "ls"
   ]
  },
  {
   "cell_type": "code",
   "execution_count": null,
   "metadata": {
    "scrolled": true
   },
   "outputs": [],
   "source": [
    "%%bash\n",
    "fastqc 8_S356_L001_R1_001.fastq \n",
    "fastqc 8_S356_L001_R2_001.fastq "
   ]
  },
  {
   "cell_type": "code",
   "execution_count": null,
   "metadata": {},
   "outputs": [],
   "source": [
    "ls "
   ]
  },
  {
   "cell_type": "markdown",
   "metadata": {},
   "source": [
    "## Los resultados se visualizan abriendo lo archivos *.html* que se generaron\n",
    "### en este caso son: \n",
    "`8_S356_L001_R1_001_fastqc.html\n",
    "8_S356_L001_R2_001_fastqc.html`\n",
    "### abra los archivos desde el navegador de Jupyter"
   ]
  },
  {
   "cell_type": "markdown",
   "metadata": {},
   "source": [
    "## Analice sus resultados y discuta con sus compañeros"
   ]
  },
  {
   "cell_type": "code",
   "execution_count": null,
   "metadata": {},
   "outputs": [],
   "source": []
  },
  {
   "cell_type": "markdown",
   "metadata": {},
   "source": [
    "### Qué archivo tiene mejor calidad?"
   ]
  },
  {
   "cell_type": "code",
   "execution_count": null,
   "metadata": {},
   "outputs": [],
   "source": []
  },
  {
   "cell_type": "markdown",
   "metadata": {},
   "source": [
    "### Escriba sus conclusiones y qué análisis procederá"
   ]
  },
  {
   "cell_type": "code",
   "execution_count": null,
   "metadata": {},
   "outputs": [],
   "source": []
  },
  {
   "cell_type": "markdown",
   "metadata": {},
   "source": [
    "# Para usuarios avanzados se dan los siguientes comandos para visualizar los datos dentro de la bitácora sin necesidad de cambiar de pestañas. \n",
    "# Los archivos se guardarán en el subdirectorio\n",
    "`8_S356_fastqc/`"
   ]
  },
  {
   "cell_type": "code",
   "execution_count": null,
   "metadata": {},
   "outputs": [],
   "source": [
    "os.makedirs(\"8_S356_fastqc\", exist_ok = True)"
   ]
  },
  {
   "cell_type": "code",
   "execution_count": null,
   "metadata": {},
   "outputs": [],
   "source": [
    "ls"
   ]
  },
  {
   "cell_type": "code",
   "execution_count": null,
   "metadata": {},
   "outputs": [],
   "source": [
    "zip_ref = zipfile.ZipFile(\"8_S356_L001_R1_001_fastqc.zip\", 'r')\n",
    "zip_ref.extractall(\"8_S356_fastqc/\")\n",
    "zip_ref.close()"
   ]
  },
  {
   "cell_type": "code",
   "execution_count": null,
   "metadata": {},
   "outputs": [],
   "source": [
    "zip_ref = zipfile.ZipFile(\"8_S356_L001_R2_001_fastqc.zip\", 'r')\n",
    "zip_ref.extractall(\"8_S356_fastqc/\")\n",
    "zip_ref.close()"
   ]
  },
  {
   "cell_type": "code",
   "execution_count": null,
   "metadata": {},
   "outputs": [],
   "source": [
    "ls 8_S356_fastqc/"
   ]
  },
  {
   "cell_type": "code",
   "execution_count": null,
   "metadata": {},
   "outputs": [],
   "source": [
    "ls 8_S356_fastqc/8_S356_L001_R1_001_fastqc/"
   ]
  },
  {
   "cell_type": "code",
   "execution_count": null,
   "metadata": {},
   "outputs": [],
   "source": [
    "ls 8_S356_fastqc/8_S356_L001_R2_001_fastqc/"
   ]
  },
  {
   "cell_type": "code",
   "execution_count": null,
   "metadata": {
    "scrolled": false
   },
   "outputs": [],
   "source": [
    "names = !ls 8_S356_fastqc/8_S356_L001_R1_001_fastqc/Images/*.png\n",
    "\n",
    "for name in names:\n",
    "    display(Image(name, width=800))"
   ]
  },
  {
   "cell_type": "code",
   "execution_count": null,
   "metadata": {
    "scrolled": false
   },
   "outputs": [],
   "source": [
    "names = !ls 8_S356_fastqc/8_S356_L001_R2_001_fastqc/Images/*.png\n",
    "for name in names:\n",
    "    display(Image(name, width=800))"
   ]
  },
  {
   "cell_type": "code",
   "execution_count": null,
   "metadata": {},
   "outputs": [],
   "source": [
    "print(display(Image('8_S356_fastqc/8_S356_L001_R1_001_fastqc/Images/per_base_quality.png', width=400)),\n",
    "      display(Image('8_S356_fastqc/8_S356_L001_R2_001_fastqc/Images/per_base_quality.png', width=400)))"
   ]
  },
  {
   "cell_type": "code",
   "execution_count": null,
   "metadata": {},
   "outputs": [],
   "source": []
  },
  {
   "cell_type": "markdown",
   "metadata": {},
   "source": [
    "# Para la eliminación de adaptadores y zonas de baja calidad.\n",
    "# Se utiliza el programa Trim_galore, el cual creará otros archivos `.fq` que contienen las secuencias sin regiones de baja calidad."
   ]
  },
  {
   "cell_type": "markdown",
   "metadata": {},
   "source": [
    "### En caso de requerir ayuda del trim galore se puede visualizar el manual mediante el comando"
   ]
  },
  {
   "cell_type": "code",
   "execution_count": null,
   "metadata": {
    "scrolled": false
   },
   "outputs": [],
   "source": [
    "!trim_galore -help"
   ]
  },
  {
   "cell_type": "code",
   "execution_count": null,
   "metadata": {},
   "outputs": [],
   "source": [
    "ls"
   ]
  },
  {
   "cell_type": "code",
   "execution_count": null,
   "metadata": {
    "scrolled": true
   },
   "outputs": [],
   "source": [
    "!trim_galore \\\n",
    "--paired \\\n",
    "8_S356_L001_R1_001.fastq \\\n",
    "8_S356_L001_R2_001.fastq"
   ]
  },
  {
   "cell_type": "markdown",
   "metadata": {},
   "source": [
    "## Se ejecuta nuevamente fastqc para revisar la calidad de las lecturas."
   ]
  },
  {
   "cell_type": "code",
   "execution_count": null,
   "metadata": {},
   "outputs": [],
   "source": [
    "%%bash \n",
    "fastqc 8_S356_L001_R1_001_val_1.fq\n",
    "fastqc 8_S356_L001_R2_001_val_2.fq"
   ]
  },
  {
   "cell_type": "markdown",
   "metadata": {},
   "source": [
    "### Revise los archivos \n",
    "**`8_S356_L001_R1_001_val_1_fastqc.html`**\n",
    "\n",
    "**`8_S356_L001_R2_001_val_2_fastqc.html`**\n",
    "\n",
    "abriendolos en la pestaña del manejador de archivos del Jupyter"
   ]
  },
  {
   "cell_type": "code",
   "execution_count": null,
   "metadata": {},
   "outputs": [],
   "source": []
  },
  {
   "cell_type": "markdown",
   "metadata": {},
   "source": [
    "## Mejoró la calidad de las lecturas?\n",
    "## Hubo cambios radicales?\n",
    "## Explique"
   ]
  },
  {
   "cell_type": "code",
   "execution_count": null,
   "metadata": {},
   "outputs": [],
   "source": []
  },
  {
   "cell_type": "code",
   "execution_count": null,
   "metadata": {},
   "outputs": [],
   "source": []
  },
  {
   "cell_type": "code",
   "execution_count": null,
   "metadata": {},
   "outputs": [],
   "source": []
  },
  {
   "cell_type": "code",
   "execution_count": null,
   "metadata": {},
   "outputs": [],
   "source": []
  }
 ],
 "metadata": {
  "kernelspec": {
   "display_name": "Python 3",
   "language": "python",
   "name": "python3"
  },
  "language_info": {
   "codemirror_mode": {
    "name": "ipython",
    "version": 3
   },
   "file_extension": ".py",
   "mimetype": "text/x-python",
   "name": "python",
   "nbconvert_exporter": "python",
   "pygments_lexer": "ipython3",
   "version": "3.6.5"
  }
 },
 "nbformat": 4,
 "nbformat_minor": 2
}
