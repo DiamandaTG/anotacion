{
 "cells": [
  {
   "cell_type": "markdown",
   "metadata": {},
   "source": [
    "# Bitacora para el manejo de secuencias fasta y búsqueda basica de *Blastx*"
   ]
  },
  {
   "cell_type": "markdown",
   "metadata": {},
   "source": [
    "## Para el siguiente ejercicio es necesario tener el Blast+ instalado en la computadora\n",
    "https://www.ncbi.nlm.nih.gov/guide/data-software/"
   ]
  },
  {
   "cell_type": "code",
   "execution_count": null,
   "metadata": {},
   "outputs": [],
   "source": [
    "cd ~/Desktop/data/exp710/"
   ]
  },
  {
   "cell_type": "code",
   "execution_count": null,
   "metadata": {},
   "outputs": [],
   "source": [
    "ls"
   ]
  },
  {
   "cell_type": "code",
   "execution_count": null,
   "metadata": {},
   "outputs": [],
   "source": [
    "%%bash\n",
    "export BLASTDB=/home/user1/DATA/swiss/\n",
    "\n",
    "date  \n",
    "time blastx -query 710_transcritos.fasta -db /home/user1/DATA/swiss/swissprot \\\n",
    "-out 710_transcritos.tab -evalue 1E-6 -max_target_seqs 1 \\\n",
    "-num_threads 2 -outfmt \"6 std stitle\" \n",
    "date"
   ]
  },
  {
   "cell_type": "code",
   "execution_count": null,
   "metadata": {},
   "outputs": [],
   "source": [
    "!head 710_transcritos.tab"
   ]
  },
  {
   "cell_type": "code",
   "execution_count": null,
   "metadata": {},
   "outputs": [],
   "source": [
    "from pandas import Series, DataFrame\n",
    "import pandas as pd\n",
    "from Bio import SeqIO, AlignIO, SeqRecord\n",
    "from Bio.SeqRecord import SeqRecord\n",
    "from Bio.Seq import Seq\n",
    "import matplotlib.pyplot as plt \n",
    "import os\n",
    "from matplotlib_venn import venn3_unweighted"
   ]
  },
  {
   "cell_type": "markdown",
   "metadata": {},
   "source": [
    "###  Blastx da los resultados sin nombre de columnas, por lo que se asignan a la variable \"encabezado\". \n",
    "### *NOTA:* el blastx a la base de datos swissprot da como segunda columna el identificador de Uniprot y no el del GenBank como en el caso de blastn a la base de datos 16 microbial o nt"
   ]
  },
  {
   "cell_type": "code",
   "execution_count": null,
   "metadata": {},
   "outputs": [],
   "source": [
    "# observe el nombre de la segunda columna\n",
    "encabezado =(\"qseqid\", \"uniprotid\", \"pident\", \"length\", \"mismatch\", \"gapopen\",\"qstart\", \n",
    "             \"qend\", \"sstart\",\"send\", \"evalue\", \"bitscore\", \"stitle\")"
   ]
  },
  {
   "cell_type": "markdown",
   "metadata": {},
   "source": [
    "### Se lee el archivo de salida y se asigna a la variable \"ftab\", con ello se pueden ver los resultados"
   ]
  },
  {
   "cell_type": "code",
   "execution_count": null,
   "metadata": {},
   "outputs": [],
   "source": [
    "ftab=pd.read_table(\"710_transcritos.tab\", header=None , names= encabezado)\n",
    "ftab.head()\n"
   ]
  },
  {
   "cell_type": "code",
   "execution_count": null,
   "metadata": {
    "scrolled": false
   },
   "outputs": [],
   "source": [
    "ftab1= ftab.groupby(\"stitle\")[\"qseqid\"].count()\n",
    "ftab1 = DataFrame(ftab1)\n",
    "ftab1"
   ]
  },
  {
   "cell_type": "code",
   "execution_count": null,
   "metadata": {},
   "outputs": [],
   "source": [
    "ftab1 = ftab.drop_duplicates(subset = \"qseqid\", inplace = False)\n",
    "ftab1.describe().round(3)"
   ]
  },
  {
   "cell_type": "code",
   "execution_count": null,
   "metadata": {},
   "outputs": [],
   "source": [
    "!date"
   ]
  },
  {
   "cell_type": "code",
   "execution_count": null,
   "metadata": {},
   "outputs": [],
   "source": [
    "fspid = pd.read_csv('~/Desktop/bigdata/spidgo.csv', engine=\"python\")\n",
    "fspid.head(2)"
   ]
  },
  {
   "cell_type": "code",
   "execution_count": null,
   "metadata": {},
   "outputs": [],
   "source": [
    "!date"
   ]
  },
  {
   "cell_type": "code",
   "execution_count": null,
   "metadata": {},
   "outputs": [],
   "source": [
    "f2=pd.merge(ftab1,fspid, on =\"uniprotid\" , how='inner')\n",
    "f2.head(2)"
   ]
  },
  {
   "cell_type": "code",
   "execution_count": null,
   "metadata": {},
   "outputs": [],
   "source": [
    "fspid = ''\n",
    "fspid"
   ]
  },
  {
   "cell_type": "code",
   "execution_count": null,
   "metadata": {},
   "outputs": [],
   "source": [
    "!date"
   ]
  },
  {
   "cell_type": "code",
   "execution_count": null,
   "metadata": {},
   "outputs": [],
   "source": []
  },
  {
   "cell_type": "code",
   "execution_count": null,
   "metadata": {},
   "outputs": [],
   "source": []
  },
  {
   "cell_type": "code",
   "execution_count": null,
   "metadata": {},
   "outputs": [],
   "source": [
    "!date"
   ]
  },
  {
   "cell_type": "code",
   "execution_count": null,
   "metadata": {},
   "outputs": [],
   "source": [
    "!date\n",
    "fgo = pd.read_csv('~/Desktop/bigdata/go_to_goslim.csv', engine=\"python\")\n",
    "fgo.head(2)"
   ]
  },
  {
   "cell_type": "code",
   "execution_count": null,
   "metadata": {},
   "outputs": [],
   "source": [
    "!date"
   ]
  },
  {
   "cell_type": "code",
   "execution_count": null,
   "metadata": {},
   "outputs": [],
   "source": [
    "f3=pd.merge(f2,fgo, on =\"GO_id\" , how='inner')\n",
    "f3.head()"
   ]
  },
  {
   "cell_type": "code",
   "execution_count": null,
   "metadata": {},
   "outputs": [],
   "source": [
    "!date"
   ]
  },
  {
   "cell_type": "code",
   "execution_count": null,
   "metadata": {},
   "outputs": [],
   "source": [
    "f4=f3.drop_duplicates(subset = ('qseqid', \"aspect\"), inplace = False)\n",
    "f4.describe()[['length','evalue']]"
   ]
  },
  {
   "cell_type": "code",
   "execution_count": null,
   "metadata": {},
   "outputs": [],
   "source": [
    "f4.to_csv(\"710_transcritos_goslim.csv\", index =  None)"
   ]
  },
  {
   "cell_type": "code",
   "execution_count": null,
   "metadata": {},
   "outputs": [],
   "source": [
    "ftabpivot = f4.pivot_table(values=\"uniprotid\" , index=[\"qseqid\"], aggfunc=len, columns=\"aspect\")\n",
    "ftabpivot.describe()"
   ]
  },
  {
   "cell_type": "code",
   "execution_count": null,
   "metadata": {},
   "outputs": [],
   "source": []
  },
  {
   "cell_type": "code",
   "execution_count": null,
   "metadata": {},
   "outputs": [],
   "source": []
  },
  {
   "cell_type": "markdown",
   "metadata": {},
   "source": [
    "# Proceso para generar el diagama de Venn con la información de \n",
    "## Componentes celulares, funciones biologicas y procesos biologicos, C, F y P, respectivamente"
   ]
  },
  {
   "cell_type": "code",
   "execution_count": null,
   "metadata": {},
   "outputs": [],
   "source": [
    "lineaC =[] # data from C\n",
    "lineaF =[] # data from F\n",
    "lineaP =[] # data from P\n",
    "linea = \"\"\n",
    "n=1\n",
    "for row in ftabpivot.index:\n",
    "    row2=ftabpivot.loc[row]\n",
    "    if str(row2[\"C\"])==\"nan\" and str(row2[\"F\"])==\"nan\" and str(row2[\"P\"])==\"nan\" :\n",
    "        continue    \n",
    "    else:        \n",
    "        if str(row2[\"C\"]) !=\"nan\":\n",
    "            linea = row\n",
    "        else:\n",
    "            linea = \"\"\n",
    "        lineaC.append(linea)\n",
    "        if str(row2[\"F\"]) !=\"nan\":\n",
    "            linea = row\n",
    "        else:\n",
    "            linea = \"\"\n",
    "        lineaF.append(linea)\n",
    "\n",
    "        if str(row2[\"P\"]) !=\"nan\":\n",
    "            linea = row\n",
    "        else:\n",
    "            linea = \"\"\n",
    "        lineaP.append(linea)\n",
    "\n",
    "        n+=1\n",
    "        #if n==1000:\n",
    "        #    break\n",
    "\n",
    "len(lineaC), len(lineaF), len(lineaP)"
   ]
  },
  {
   "cell_type": "code",
   "execution_count": null,
   "metadata": {},
   "outputs": [],
   "source": [
    "lineaC = set(lineaC)\n",
    "lineaF = set(lineaF)\n",
    "lineaP = set(lineaP)\n",
    "venn3_unweighted([lineaC, lineaF, lineaP], ('C', 'F', 'P'))\n",
    "plt.savefig(\"710_transcritos_venn3_1.png\", dpi=400, bbox_inches='tight')\n",
    "plt.savefig(\"710_transcritos_venn3_1.pdf\", dpi=400, bbox_inches='tight')\n",
    "plt.show()"
   ]
  },
  {
   "cell_type": "code",
   "execution_count": null,
   "metadata": {},
   "outputs": [],
   "source": [
    "fgo=f4.groupby('GOSlim_bin')[\"qseqid\"].count()\n",
    "#fgo\n",
    "\n",
    "fgo.sort_values(inplace = True, ascending=False)\n",
    "#fgo\n",
    "\n",
    "linea10=fgo[0:10]\n",
    "linea11=fgo[10:]\n",
    "#linea10\n",
    "\n",
    "#linea11\n",
    "otro=sum (linea11)\n",
    "#otro\n",
    "otros = pd.DataFrame({0:otro}, index=[\"Other\"])\n",
    "#otros\n",
    "linea10=linea10.append(otros)\n",
    "#linea10\n",
    "linea10.plot(kind='barh', color=list('ybg'))\n",
    "plt.axis([-1, 500, -1, 11], label=None)\n",
    "plt.xlabel(\"Count\")\n",
    "plt.ylabel(\"GOSlim bin\")\n",
    "plt.legend().set_visible(False)\n",
    "#plt.savefig(\"710transcritos_blastx_GObar.png\", dpi=400, bbox_inches='tight')\n",
    "\n",
    "\n",
    "plt.show()"
   ]
  },
  {
   "cell_type": "code",
   "execution_count": null,
   "metadata": {},
   "outputs": [],
   "source": []
  },
  {
   "cell_type": "code",
   "execution_count": null,
   "metadata": {},
   "outputs": [],
   "source": []
  }
 ],
 "metadata": {
  "kernelspec": {
   "display_name": "mplvenn",
   "language": "python",
   "name": "mplvenn"
  },
  "language_info": {
   "codemirror_mode": {
    "name": "ipython",
    "version": 3
   },
   "file_extension": ".py",
   "mimetype": "text/x-python",
   "name": "python",
   "nbconvert_exporter": "python",
   "pygments_lexer": "ipython3",
   "version": "3.6.5"
  }
 },
 "nbformat": 4,
 "nbformat_minor": 2
}
