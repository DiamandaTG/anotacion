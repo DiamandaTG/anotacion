{
 "cells": [
  {
   "cell_type": "markdown",
   "metadata": {},
   "source": [
    "# Bitácora para manejo de archivos y sistema operativo"
   ]
  },
  {
   "cell_type": "code",
   "execution_count": 1,
   "metadata": {},
   "outputs": [
    {
     "data": {
      "text/plain": [
       "'/Users/migueldelrio/Desktop/curso2018Secuenciacion_masiva_mtdna/jupyter'"
      ]
     },
     "execution_count": 1,
     "metadata": {},
     "output_type": "execute_result"
    }
   ],
   "source": [
    "pwd # directorio de trabajo"
   ]
  },
  {
   "cell_type": "code",
   "execution_count": 2,
   "metadata": {},
   "outputs": [],
   "source": [
    "# cambio de directorio al \"home\""
   ]
  },
  {
   "cell_type": "code",
   "execution_count": 3,
   "metadata": {},
   "outputs": [
    {
     "name": "stdout",
     "output_type": "stream",
     "text": [
      "/Users/migueldelrio\n"
     ]
    }
   ],
   "source": [
    "cd"
   ]
  },
  {
   "cell_type": "markdown",
   "metadata": {
    "collapsed": true
   },
   "source": [
    "### rellene el nombre con el tabulador\n",
    "teclee \n",
    "\"cd Des\" y presione tab \n",
    "<center><img src=\"img/t\"/ width = 35%></center> \n"
   ]
  },
  {
   "cell_type": "code",
   "execution_count": 4,
   "metadata": {},
   "outputs": [
    {
     "name": "stdout",
     "output_type": "stream",
     "text": [
      "\u001b[34mApplications\u001b[m\u001b[m/             \u001b[34mLibrary\u001b[m\u001b[m/                  Rplots.pdf\r\n",
      "\u001b[34mCLC_Data\u001b[m\u001b[m/                 \u001b[34mMovies\u001b[m\u001b[m/                   \u001b[34manaconda\u001b[m\u001b[m/\r\n",
      "\u001b[34mCLCdatabases\u001b[m\u001b[m/             \u001b[34mMusic\u001b[m\u001b[m/                    \u001b[34manaconda3\u001b[m\u001b[m/\r\n",
      "\u001b[34mDesktop\u001b[m\u001b[m/                  \u001b[34mPictures\u001b[m\u001b[m/                 \u001b[34mncbi\u001b[m\u001b[m/\r\n",
      "\u001b[34mDocuments\u001b[m\u001b[m/                PopulusHelp.pdf           \u001b[34mperl5\u001b[m\u001b[m/\r\n",
      "\u001b[34mDownloads\u001b[m\u001b[m/                \u001b[34mPublic\u001b[m\u001b[m/                   \u001b[34msratoolkit.2.8.2-1-mac64\u001b[m\u001b[m/\r\n"
     ]
    }
   ],
   "source": [
    "ls "
   ]
  },
  {
   "cell_type": "code",
   "execution_count": 5,
   "metadata": {},
   "outputs": [
    {
     "data": {
      "text/plain": [
       "'/Users/migueldelrio'"
      ]
     },
     "execution_count": 5,
     "metadata": {},
     "output_type": "execute_result"
    }
   ],
   "source": [
    "pwd"
   ]
  },
  {
   "cell_type": "code",
   "execution_count": 6,
   "metadata": {},
   "outputs": [
    {
     "name": "stdout",
     "output_type": "stream",
     "text": [
      "/Users/migueldelrio/Desktop\n"
     ]
    }
   ],
   "source": [
    "cd Desktop/"
   ]
  },
  {
   "cell_type": "code",
   "execution_count": 7,
   "metadata": {},
   "outputs": [],
   "source": [
    "# cambiar directorio con direccion absoluta"
   ]
  },
  {
   "cell_type": "code",
   "execution_count": 9,
   "metadata": {},
   "outputs": [
    {
     "name": "stdout",
     "output_type": "stream",
     "text": [
      "/Users/migueldelrio/Desktop/curso2018Secuenciacion_masiva_mtdna\n"
     ]
    }
   ],
   "source": [
    "cd ~/Desktop/curso2018Secuenciacion_masiva_mtdna"
   ]
  },
  {
   "cell_type": "code",
   "execution_count": 10,
   "metadata": {},
   "outputs": [
    {
     "name": "stdout",
     "output_type": "stream",
     "text": [
      "2doTallerSecuenciacionMasiva.docx  \u001b[34mimg\u001b[m\u001b[m/\r\n",
      "\u001b[34marticulos_manuales\u001b[m\u001b[m/                \u001b[34mjupyter\u001b[m\u001b[m/\r\n",
      "\u001b[34mdocumentos\u001b[m\u001b[m/                        \u001b[34mmaterial\u001b[m\u001b[m/\r\n",
      "\u001b[34meduardoZuniga\u001b[m\u001b[m/                     \u001b[34mprogramas\u001b[m\u001b[m/\r\n"
     ]
    }
   ],
   "source": [
    "ls"
   ]
  },
  {
   "cell_type": "code",
   "execution_count": 11,
   "metadata": {},
   "outputs": [],
   "source": [
    "# crear un directorio nuevo"
   ]
  },
  {
   "cell_type": "code",
   "execution_count": 12,
   "metadata": {},
   "outputs": [],
   "source": [
    "mkdir data"
   ]
  },
  {
   "cell_type": "code",
   "execution_count": 13,
   "metadata": {},
   "outputs": [
    {
     "name": "stdout",
     "output_type": "stream",
     "text": [
      "2doTallerSecuenciacionMasiva.docx  \u001b[34mimg\u001b[m\u001b[m/\r\n",
      "\u001b[34marticulos_manuales\u001b[m\u001b[m/                \u001b[34mjupyter\u001b[m\u001b[m/\r\n",
      "\u001b[34mdata\u001b[m\u001b[m/                              \u001b[34mmaterial\u001b[m\u001b[m/\r\n",
      "\u001b[34mdocumentos\u001b[m\u001b[m/                        \u001b[34mprogramas\u001b[m\u001b[m/\r\n",
      "\u001b[34meduardoZuniga\u001b[m\u001b[m/\r\n"
     ]
    }
   ],
   "source": [
    "ls"
   ]
  },
  {
   "cell_type": "code",
   "execution_count": 14,
   "metadata": {},
   "outputs": [
    {
     "name": "stdout",
     "output_type": "stream",
     "text": [
      "/Users/migueldelrio/Desktop/curso2018Secuenciacion_masiva_mtdna\n"
     ]
    }
   ],
   "source": [
    "cd /Users/migueldelrio/Desktop/curso2018Secuenciacion_masiva_mtdna"
   ]
  },
  {
   "cell_type": "code",
   "execution_count": 15,
   "metadata": {},
   "outputs": [
    {
     "name": "stdout",
     "output_type": "stream",
     "text": [
      "2doTallerSecuenciacionMasiva.docx  \u001b[34mimg\u001b[m\u001b[m/\r\n",
      "\u001b[34marticulos_manuales\u001b[m\u001b[m/                \u001b[34mjupyter\u001b[m\u001b[m/\r\n",
      "\u001b[34mdata\u001b[m\u001b[m/                              \u001b[34mmaterial\u001b[m\u001b[m/\r\n",
      "\u001b[34mdocumentos\u001b[m\u001b[m/                        \u001b[34mprogramas\u001b[m\u001b[m/\r\n",
      "\u001b[34meduardoZuniga\u001b[m\u001b[m/\r\n"
     ]
    }
   ],
   "source": [
    "ls # listado de archivos\n"
   ]
  },
  {
   "cell_type": "code",
   "execution_count": 16,
   "metadata": {},
   "outputs": [
    {
     "data": {
      "text/plain": [
       "'/Users/migueldelrio/Desktop/curso2018Secuenciacion_masiva_mtdna'"
      ]
     },
     "execution_count": 16,
     "metadata": {},
     "output_type": "execute_result"
    }
   ],
   "source": [
    "pwd"
   ]
  },
  {
   "cell_type": "code",
   "execution_count": 17,
   "metadata": {},
   "outputs": [
    {
     "name": "stdout",
     "output_type": "stream",
     "text": [
      "/Users/migueldelrio/Desktop/curso2018Secuenciacion_masiva_mtdna/data\n"
     ]
    }
   ],
   "source": [
    "cd data/"
   ]
  },
  {
   "cell_type": "code",
   "execution_count": 18,
   "metadata": {},
   "outputs": [],
   "source": [
    "ls"
   ]
  },
  {
   "cell_type": "code",
   "execution_count": 20,
   "metadata": {},
   "outputs": [],
   "source": [
    "ls fasta/"
   ]
  },
  {
   "cell_type": "code",
   "execution_count": 21,
   "metadata": {},
   "outputs": [
    {
     "name": "stdout",
     "output_type": "stream",
     "text": [
      "cover-cookbook-2nd.png\r\n"
     ]
    }
   ],
   "source": [
    "ls ../img/"
   ]
  },
  {
   "cell_type": "code",
   "execution_count": 22,
   "metadata": {},
   "outputs": [
    {
     "name": "stdout",
     "output_type": "stream",
     "text": [
      "/Users/migueldelrio/Desktop/curso2018Secuenciacion_masiva_mtdna\n"
     ]
    }
   ],
   "source": [
    "cd .."
   ]
  },
  {
   "cell_type": "raw",
   "metadata": {
    "collapsed": true
   },
   "source": [
    "mkdir sistema_operativo # crea un directorio"
   ]
  },
  {
   "cell_type": "code",
   "execution_count": 23,
   "metadata": {},
   "outputs": [
    {
     "name": "stdout",
     "output_type": "stream",
     "text": [
      "2doTallerSecuenciacionMasiva.docx  \u001b[34mimg\u001b[m\u001b[m/\r\n",
      "\u001b[34marticulos_manuales\u001b[m\u001b[m/                \u001b[34mjupyter\u001b[m\u001b[m/\r\n",
      "\u001b[34mdata\u001b[m\u001b[m/                              \u001b[34mmaterial\u001b[m\u001b[m/\r\n",
      "\u001b[34mdocumentos\u001b[m\u001b[m/                        \u001b[34mprogramas\u001b[m\u001b[m/\r\n",
      "\u001b[34meduardoZuniga\u001b[m\u001b[m/\r\n"
     ]
    }
   ],
   "source": [
    "ls"
   ]
  },
  {
   "cell_type": "code",
   "execution_count": null,
   "metadata": {},
   "outputs": [],
   "source": [
    "cd sistema_operativo/"
   ]
  },
  {
   "cell_type": "code",
   "execution_count": null,
   "metadata": {},
   "outputs": [],
   "source": [
    "cp ../seq/Nav1.2_\\(B9\\)-DG7A_E12_010.seq  ../sistema_operativo/ #copia un archivo"
   ]
  },
  {
   "cell_type": "code",
   "execution_count": null,
   "metadata": {},
   "outputs": [],
   "source": [
    "ls ../sistema_operativo/"
   ]
  },
  {
   "cell_type": "code",
   "execution_count": null,
   "metadata": {},
   "outputs": [],
   "source": [
    "# verificar que no se borro el archivo"
   ]
  },
  {
   "cell_type": "code",
   "execution_count": null,
   "metadata": {
    "scrolled": true
   },
   "outputs": [],
   "source": [
    "ls ../seq/"
   ]
  },
  {
   "cell_type": "code",
   "execution_count": null,
   "metadata": {},
   "outputs": [],
   "source": [
    "import os, sys"
   ]
  },
  {
   "cell_type": "code",
   "execution_count": null,
   "metadata": {},
   "outputs": [],
   "source": [
    "cd ~/Desktop/data/bioinformatica_aplicada/"
   ]
  },
  {
   "cell_type": "code",
   "execution_count": null,
   "metadata": {},
   "outputs": [],
   "source": [
    "lista = os.listdir(path =\"seq/\")\n",
    "lista"
   ]
  },
  {
   "cell_type": "code",
   "execution_count": null,
   "metadata": {},
   "outputs": [],
   "source": [
    "#proceso para cambiar todos los archivos de subsubdirectorios a un subdirectorio\n",
    "# Se verifica con la impresion que son los archivos que se desean cambiar\n",
    "# entonces se elimina el simbolo de \"#\" de la linea \"os.rename (nom1, row1)\" para ejecutar el proceso\n",
    "n=0\n",
    "print (\"renaming             \",\"      \\t\",\"        to\" )\n",
    "\n",
    "for row in lista:\n",
    "    if row[0]==\".\" or row[-4]==\".dox\":\n",
    "        continue\n",
    "    nom=row[:row.find(\"_\")]\n",
    "    if n%2!=0:\n",
    "        nom1=\"seq/\" +nom+\"R\"+row[-4:]\n",
    "    else:\n",
    "        nom1=\"seq/\" +nom+\"F\"+row[-4:]\n",
    "\n",
    "    #row = row.replace(\"(\", \"\\(\")\n",
    "    #row = row.replace(\")\", \"\\)\")\n",
    "    row = \"../ab1/\"+row\n",
    "    print (row, \"      \\t\", nom1)\n",
    "    #os.rename (row, nom1)\n",
    "    n+=1\n",
    "print(\"finished\", n, \"files\")"
   ]
  },
  {
   "cell_type": "code",
   "execution_count": null,
   "metadata": {},
   "outputs": [],
   "source": [
    "ls seq/"
   ]
  },
  {
   "cell_type": "code",
   "execution_count": null,
   "metadata": {},
   "outputs": [],
   "source": [
    "cd seq/"
   ]
  },
  {
   "cell_type": "code",
   "execution_count": null,
   "metadata": {},
   "outputs": [],
   "source": [
    "ls"
   ]
  },
  {
   "cell_type": "code",
   "execution_count": null,
   "metadata": {},
   "outputs": [],
   "source": []
  },
  {
   "cell_type": "code",
   "execution_count": null,
   "metadata": {},
   "outputs": [],
   "source": [
    "cd .."
   ]
  },
  {
   "cell_type": "code",
   "execution_count": null,
   "metadata": {},
   "outputs": [],
   "source": [
    "ls"
   ]
  },
  {
   "cell_type": "markdown",
   "metadata": {
    "collapsed": true
   },
   "source": [
    "# Manejo de archivos"
   ]
  },
  {
   "cell_type": "code",
   "execution_count": null,
   "metadata": {},
   "outputs": [],
   "source": [
    "!head seq/Nav1.2F.seq"
   ]
  },
  {
   "cell_type": "code",
   "execution_count": null,
   "metadata": {},
   "outputs": [],
   "source": [
    "# conteo de lineas del archivo"
   ]
  },
  {
   "cell_type": "code",
   "execution_count": null,
   "metadata": {},
   "outputs": [],
   "source": [
    "!wc bacteria_NR_043902.fa"
   ]
  },
  {
   "cell_type": "code",
   "execution_count": null,
   "metadata": {
    "scrolled": false
   },
   "outputs": [],
   "source": [
    "!man wc"
   ]
  },
  {
   "cell_type": "code",
   "execution_count": null,
   "metadata": {},
   "outputs": [],
   "source": [
    "!wc -l bacteria_NR_043902.fa # conteo de lineas"
   ]
  },
  {
   "cell_type": "code",
   "execution_count": null,
   "metadata": {},
   "outputs": [],
   "source": [
    "!wc -w bacteria_NR_043902.fa # conteo de palabras"
   ]
  },
  {
   "cell_type": "code",
   "execution_count": null,
   "metadata": {},
   "outputs": [],
   "source": [
    "!wc -c bacteria_NR_043902.fa # conteo de caracteres"
   ]
  },
  {
   "cell_type": "code",
   "execution_count": null,
   "metadata": {},
   "outputs": [],
   "source": [
    "!grep \">\" bacteria_NR_043902.fa"
   ]
  },
  {
   "cell_type": "code",
   "execution_count": null,
   "metadata": {},
   "outputs": [],
   "source": [
    "!grep \"A\" bacteria_NR_043902.fa| wc -c"
   ]
  },
  {
   "cell_type": "code",
   "execution_count": null,
   "metadata": {
    "scrolled": false
   },
   "outputs": [],
   "source": [
    "!man grep"
   ]
  },
  {
   "cell_type": "markdown",
   "metadata": {},
   "source": [
    "# Construcción de un archivo fasta con varias secuencias"
   ]
  },
  {
   "cell_type": "code",
   "execution_count": null,
   "metadata": {},
   "outputs": [],
   "source": [
    "lista = os.listdir(path =\"seq/\")\n",
    "lista"
   ]
  },
  {
   "cell_type": "code",
   "execution_count": null,
   "metadata": {
    "scrolled": false
   },
   "outputs": [],
   "source": [
    "secuencias=[]    # crea una variable \n",
    "for row in lista:\n",
    "    if row[0]==\".\":   # si el inicio de la linea es punto, pasa a la siguiente linea\n",
    "        continue\n",
    "    archivo = \"seq/\"+row\n",
    "    secuencia = \"\"\n",
    "    with open(archivo, 'r') as f:\n",
    "        for arc in f.readlines():  # lee lineas\n",
    "            secuencia += arc.strip()\n",
    "    linea = row,secuencia\n",
    "    secuencias.append(linea)    # agrega \n",
    "\n",
    "secuencias[:2]  "
   ]
  },
  {
   "cell_type": "code",
   "execution_count": null,
   "metadata": {},
   "outputs": [],
   "source": [
    "for row in secuencias:\n",
    "    print (row[0], row[1][:20])"
   ]
  },
  {
   "cell_type": "markdown",
   "metadata": {},
   "source": [
    "# archivo fasta"
   ]
  },
  {
   "cell_type": "markdown",
   "metadata": {},
   "source": [
    "#### describa las caracteristicas de un archivo fasta"
   ]
  },
  {
   "cell_type": "code",
   "execution_count": null,
   "metadata": {},
   "outputs": [],
   "source": []
  },
  {
   "cell_type": "code",
   "execution_count": null,
   "metadata": {},
   "outputs": [],
   "source": [
    "for row in secuencias:\n",
    "    print (\">\" +row[0], \"\\n\"+ row[1][:20])"
   ]
  },
  {
   "cell_type": "code",
   "execution_count": null,
   "metadata": {
    "scrolled": false
   },
   "outputs": [],
   "source": [
    "f_out= open(\"secuencias.fasta\",'w')\n",
    "for row in secuencias:\n",
    "    lineas = \">\" +row[0]+ \"\\n\"+ row[1]+ \"\\n\"\n",
    "    print (lineas)\n",
    "    f_out.write(lineas)\n",
    "f_out.close()"
   ]
  },
  {
   "cell_type": "code",
   "execution_count": null,
   "metadata": {},
   "outputs": [],
   "source": [
    "!head secuencias.fasta"
   ]
  },
  {
   "cell_type": "code",
   "execution_count": null,
   "metadata": {},
   "outputs": [],
   "source": [
    "!grep \">\" secuencias.fasta"
   ]
  },
  {
   "cell_type": "code",
   "execution_count": null,
   "metadata": {},
   "outputs": [],
   "source": [
    "# contar el numero de secuencias en el archivo"
   ]
  },
  {
   "cell_type": "code",
   "execution_count": null,
   "metadata": {},
   "outputs": [],
   "source": [
    "!grep \">\" secuencias.fasta |wc -l"
   ]
  },
  {
   "cell_type": "code",
   "execution_count": null,
   "metadata": {
    "collapsed": true
   },
   "outputs": [],
   "source": []
  }
 ],
 "metadata": {
  "kernelspec": {
   "display_name": "Python 3",
   "language": "python",
   "name": "python3"
  },
  "language_info": {
   "codemirror_mode": {
    "name": "ipython",
    "version": 3
   },
   "file_extension": ".py",
   "mimetype": "text/x-python",
   "name": "python",
   "nbconvert_exporter": "python",
   "pygments_lexer": "ipython3",
   "version": "3.6.5"
  }
 },
 "nbformat": 4,
 "nbformat_minor": 2
}
