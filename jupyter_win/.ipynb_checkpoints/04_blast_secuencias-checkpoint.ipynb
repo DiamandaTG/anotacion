{
 "cells": [
  {
   "cell_type": "markdown",
   "metadata": {},
   "source": [
    "# Bitacora para el manejo de secuencias fasta y busqueda basica de *Blastn* y *Blastx*\n"
   ]
  },
  {
   "cell_type": "markdown",
   "metadata": {},
   "source": [
    "## Para el siguiente ejercicio es necesario tener el Blast+ instalado en la computadora\n",
    "https://www.ncbi.nlm.nih.gov/guide/data-software/\n",
    "## y tener instalada las bases de datos 16s microbiano de taxonomica"
   ]
  },
  {
   "cell_type": "code",
   "execution_count": 1,
   "metadata": {},
   "outputs": [
    {
     "data": {
      "text/plain": [
       "'/home/user1/Desktop/jupyter'"
      ]
     },
     "execution_count": 1,
     "metadata": {},
     "output_type": "execute_result"
    }
   ],
   "source": [
    "pwd"
   ]
  },
  {
   "cell_type": "code",
   "execution_count": 2,
   "metadata": {},
   "outputs": [
    {
     "name": "stdout",
     "output_type": "stream",
     "text": [
      "/home/user1/Desktop/data/fasta\n"
     ]
    }
   ],
   "source": [
    "cd ../data/fasta/"
   ]
  },
  {
   "cell_type": "code",
   "execution_count": 4,
   "metadata": {},
   "outputs": [
    {
     "name": "stdout",
     "output_type": "stream",
     "text": [
      "\u001b[0m\u001b[01;34mimg\u001b[0m/  secuencias.fasta\r\n"
     ]
    }
   ],
   "source": [
    "ls"
   ]
  },
  {
   "cell_type": "code",
   "execution_count": 9,
   "metadata": {
    "scrolled": false
   },
   "outputs": [
    {
     "name": "stdout",
     "output_type": "stream",
     "text": [
      ">Nav1.2_(B9 Nav1.2_(B9)-DG7A_E12_010\r",
      "\r\n",
      "CTTCCCCCAATCATCTGTCCCACCTTCGGCGGCTGGCTCCATAAAGGTTACCTCACCGAC\r",
      "\r\n",
      "TTCGGGTGTTACAAACTCTCGTGGTGTGACGGGCGGTGTGTACAAGGCCCGGGAACGTAT\r",
      "\r\n",
      "TCACCGCGGCATGCTGATCCGCAATTACAACCGATTCCAGCTTCACGCATTCAAGTTGCA\r",
      "\r\n",
      "AACTGCAATCCGAACTGAAAACAGATTTGTGGAATTGGCTTAACCTCCCGGTTTCCCTGC\r",
      "\r\n",
      "CCTTTGTTCTGTCCATTGTACCACGTGTGTACCCCAGGTCATAAGGGGCATGATGATTTG\r",
      "\r\n",
      "ACGTCATC\r",
      "\r\n",
      ">Nav1.2_(D10 Nav1.2_(D10)-RW01_F03_011\r",
      "\r\n",
      "CCTGGGCTACCACGTGCTACATGGACAGAACAAGGGCATCGAAACCGCGAGGTTAAGCCA\r",
      "\r\n",
      "ATCCCACAAATCTGTTCTCAATTCGGATCGCAATCTGCAACTCGACTGCGTGAAGCTGGA\r",
      "\r\n"
     ]
    }
   ],
   "source": [
    "!head secuencias.fasta"
   ]
  },
  {
   "cell_type": "code",
   "execution_count": 10,
   "metadata": {},
   "outputs": [
    {
     "name": "stdout",
     "output_type": "stream",
     "text": [
      "20\r\n"
     ]
    }
   ],
   "source": [
    "# cuantas secuencias hay?\n",
    "# utilice el comando de linux \">\" para saber cuantas secuencias se tienen\n",
    "!grep \">\" secuencias.fasta |wc -l"
   ]
  },
  {
   "cell_type": "markdown",
   "metadata": {},
   "source": [
    "# Blastn"
   ]
  },
  {
   "cell_type": "markdown",
   "metadata": {},
   "source": [
    "## Revise el manual del Blast y describa qué realizan los siguientes comandos y describalos en las siguientes celdas\n",
    "https://www.ncbi.nlm.nih.gov/books/NBK279690/\n",
    "\n",
    "en pdf\n",
    "\n",
    "https://www.ncbi.nlm.nih.gov/books/NBK279690/pdf/Bookshelf_NBK279690.pdf\n"
   ]
  },
  {
   "cell_type": "code",
   "execution_count": 16,
   "metadata": {},
   "outputs": [
    {
     "name": "stdout",
     "output_type": "stream",
     "text": [
      "Mon Jul 23 21:44:26 UTC 2018\n",
      "Mon Jul 23 21:44:29 UTC 2018\n"
     ]
    }
   ],
   "source": [
    "%%bash\n",
    "export BLASTDB=~/Desktop/bigdata/ \n",
    "date  \n",
    "blastn -query secuencias.fasta -db ~/Desktop/bigdata/16SMicrobial \\\n",
    "-out secuencias.tab -evalue 1E-6 -max_target_seqs 1 \\\n",
    "-num_threads 2 -outfmt \"6 std sskingdoms stitle staxids sscinames scomnames sblastnames\" \n",
    "date"
   ]
  },
  {
   "cell_type": "markdown",
   "metadata": {},
   "source": [
    "### Revise el manual del Blast y describa qué valores obtendrá en el archivo de salida\n",
    "busque '-outfmt'"
   ]
  },
  {
   "cell_type": "code",
   "execution_count": null,
   "metadata": {
    "collapsed": true
   },
   "outputs": [],
   "source": []
  },
  {
   "cell_type": "code",
   "execution_count": 17,
   "metadata": {},
   "outputs": [
    {
     "name": "stdout",
     "output_type": "stream",
     "text": [
      "\u001b[0m\u001b[01;34mimg\u001b[0m/  secuencias.fasta  secuencias.tab\r\n"
     ]
    }
   ],
   "source": [
    "ls "
   ]
  },
  {
   "cell_type": "code",
   "execution_count": 18,
   "metadata": {
    "scrolled": true
   },
   "outputs": [
    {
     "name": "stdout",
     "output_type": "stream",
     "text": [
      "Nav1.2_(B9\tNR_151897.1\t95.469\t309\t13\t1\t1\t308\t1495\t1187\t5.02e-139\t492\tBacteria\tBacillus nakamurai strain NRRL B-41091 16S ribosomal RNA, partial sequence\t1793963\tBacillus sp. NRRL B-41091\tBacillus sp. NRRL B-41091\tfirmicutes\r\n",
      "Nav1.2_(D10\tNR_115063.1\t98.058\t309\t3\t3\t1\t306\t1214\t1522\t8.16e-152\t534\tBacteria\tBacillus halotolerans strain DSM 8802 16S ribosomal RNA, partial sequence\t260554\t[Brevibacterium] halotolerans\t[Brevibacterium] halotolerans\tfirmicutes\r\n",
      "Nav1.8_(B11\tNR_025241.1\t99.032\t310\t2\t1\t1\t309\t1478\t1169\t6.33e-158\t555\tBacteria\tBacillus aquimaris strain TF-12 16S ribosomal RNA gene, partial sequence\t189382\tBacillus aquimaris\tBacillus aquimaris\tfirmicutes\r\n",
      "Nav1.8_(D12\tNR_025241.1\t99.340\t303\t2\t0\t1\t303\t1205\t1507\t2.88e-156\t549\tBacteria\tBacillus aquimaris strain TF-12 16S ribosomal RNA gene, partial sequence\t189382\tBacillus aquimaris\tBacillus aquimaris\tfirmicutes\r\n",
      "Nav2.2_(B10\tNR_148756.1\t97.840\t324\t6\t1\t1\t323\t1483\t1160\t5.13e-159\t558\tBacteria\tAlteromonas mediterranea strain DE 16S ribosomal RNA, complete sequence\t314275\tAlteromonas macleodii str. 'Deep ecotype'\tAlteromonas macleodii str. 'Deep ecotype'\tg-proteobacteria\r\n",
      "Nav2.2_(D11\tNR_148756.1\t99.668\t301\t1\t0\t1\t301\t1213\t1513\t8.05e-157\t551\tBacteria\tAlteromonas mediterranea strain DE 16S ribosomal RNA, complete sequence\t314275\tAlteromonas macleodii str. 'Deep ecotype'\tAlteromonas macleodii str. 'Deep ecotype'\tg-proteobacteria\r\n",
      "PET1.2_(A1\tNR_148798.1\t98.052\t308\t4\t2\t1\t306\t1466\t1159\t8.16e-152\t534\tBacteria\tPseudomonas populi strain KBL-4-9 16S ribosomal RNA, partial sequence\t1500966\tPseudomonas sp. KBL-4-9\tPseudomonas sp. KBL-4-9\tg-proteobacteria\r\n",
      "PET1.2_(C2\tNR_074812.1\t97.436\t312\t8\t0\t1\t312\t1204\t1515\t3.00e-151\t532\tBacteria\tHahella chejuensis strain KCTC 2396 16S ribosomal RNA, complete sequence\t158327\tHahella chejuensis\tHahella chejuensis\tg-proteobacteria\r\n",
      "PET1.8_(A12\tNR_152090.1\t100.000\t302\t0\t0\t2\t303\t1477\t1176\t4.79e-159\t558\tBacteria\tPseudomonas oceani strain DSM 100277 16S ribosomal RNA, partial sequence\t1708783\tPseudomonas sp. DSM 100277\tPseudomonas sp. DSM 100277\tg-proteobacteria\r\n",
      "PET1.8_(D1\tNR_152090.1\t99.663\t297\t1\t0\t1\t297\t1199\t1495\t1.48e-154\t544\tBacteria\tPseudomonas oceani strain DSM 100277 16S ribosomal RNA, partial sequence\t1708783\tPseudomonas sp. DSM 100277\tPseudomonas sp. DSM 100277\tg-proteobacteria\r\n"
     ]
    }
   ],
   "source": [
    "!head secuencias.tab"
   ]
  },
  {
   "cell_type": "markdown",
   "metadata": {},
   "source": [
    "## se requiere visualizar los datos, para ello se utiliza el manejo de bases de datos que tiene Python"
   ]
  },
  {
   "cell_type": "markdown",
   "metadata": {},
   "source": [
    "### se cargan la paquetería correspondientes"
   ]
  },
  {
   "cell_type": "code",
   "execution_count": 19,
   "metadata": {},
   "outputs": [],
   "source": [
    "from pandas import Series, DataFrame\n",
    "import pandas as pd"
   ]
  },
  {
   "cell_type": "markdown",
   "metadata": {},
   "source": [
    "###  Blast da los resultados sin nombre de columnas, por lo que se asignan a la variable \"encabezado\""
   ]
  },
  {
   "cell_type": "code",
   "execution_count": 20,
   "metadata": {},
   "outputs": [],
   "source": [
    "encabezado =(\"qseqid\", \"sseqid\", \"pident\", \"length\", \"mismatch\", \"gapopen\",\"qstart\", \n",
    "             \"qend\", \"sstart\",\"send\", \"evalue\", \"bitscore\", \"sskingdoms\", \"stitle\", \n",
    "             \"staxids\", \"sscinames\", \"scomnames\", \"sblastnames\")"
   ]
  },
  {
   "cell_type": "markdown",
   "metadata": {},
   "source": [
    "### Se lee el archivo de salida y se asigna a la variable \"ftab\", con ello se pueden ver los resultados"
   ]
  },
  {
   "cell_type": "code",
   "execution_count": 21,
   "metadata": {
    "scrolled": false
   },
   "outputs": [
    {
     "data": {
      "text/html": [
       "<div>\n",
       "<style scoped>\n",
       "    .dataframe tbody tr th:only-of-type {\n",
       "        vertical-align: middle;\n",
       "    }\n",
       "\n",
       "    .dataframe tbody tr th {\n",
       "        vertical-align: top;\n",
       "    }\n",
       "\n",
       "    .dataframe thead th {\n",
       "        text-align: right;\n",
       "    }\n",
       "</style>\n",
       "<table border=\"1\" class=\"dataframe\">\n",
       "  <thead>\n",
       "    <tr style=\"text-align: right;\">\n",
       "      <th></th>\n",
       "      <th>qseqid</th>\n",
       "      <th>sseqid</th>\n",
       "      <th>pident</th>\n",
       "      <th>length</th>\n",
       "      <th>mismatch</th>\n",
       "      <th>gapopen</th>\n",
       "      <th>qstart</th>\n",
       "      <th>qend</th>\n",
       "      <th>sstart</th>\n",
       "      <th>send</th>\n",
       "      <th>evalue</th>\n",
       "      <th>bitscore</th>\n",
       "      <th>sskingdoms</th>\n",
       "      <th>stitle</th>\n",
       "      <th>staxids</th>\n",
       "      <th>sscinames</th>\n",
       "      <th>scomnames</th>\n",
       "      <th>sblastnames</th>\n",
       "    </tr>\n",
       "  </thead>\n",
       "  <tbody>\n",
       "    <tr>\n",
       "      <th>0</th>\n",
       "      <td>Nav1.2_(B9</td>\n",
       "      <td>NR_151897.1</td>\n",
       "      <td>95.469</td>\n",
       "      <td>309</td>\n",
       "      <td>13</td>\n",
       "      <td>1</td>\n",
       "      <td>1</td>\n",
       "      <td>308</td>\n",
       "      <td>1495</td>\n",
       "      <td>1187</td>\n",
       "      <td>5.020000e-139</td>\n",
       "      <td>492</td>\n",
       "      <td>Bacteria</td>\n",
       "      <td>Bacillus nakamurai strain NRRL B-41091 16S rib...</td>\n",
       "      <td>1793963</td>\n",
       "      <td>Bacillus sp. NRRL B-41091</td>\n",
       "      <td>Bacillus sp. NRRL B-41091</td>\n",
       "      <td>firmicutes</td>\n",
       "    </tr>\n",
       "    <tr>\n",
       "      <th>1</th>\n",
       "      <td>Nav1.2_(D10</td>\n",
       "      <td>NR_115063.1</td>\n",
       "      <td>98.058</td>\n",
       "      <td>309</td>\n",
       "      <td>3</td>\n",
       "      <td>3</td>\n",
       "      <td>1</td>\n",
       "      <td>306</td>\n",
       "      <td>1214</td>\n",
       "      <td>1522</td>\n",
       "      <td>8.160000e-152</td>\n",
       "      <td>534</td>\n",
       "      <td>Bacteria</td>\n",
       "      <td>Bacillus halotolerans strain DSM 8802 16S ribo...</td>\n",
       "      <td>260554</td>\n",
       "      <td>[Brevibacterium] halotolerans</td>\n",
       "      <td>[Brevibacterium] halotolerans</td>\n",
       "      <td>firmicutes</td>\n",
       "    </tr>\n",
       "    <tr>\n",
       "      <th>2</th>\n",
       "      <td>Nav1.8_(B11</td>\n",
       "      <td>NR_025241.1</td>\n",
       "      <td>99.032</td>\n",
       "      <td>310</td>\n",
       "      <td>2</td>\n",
       "      <td>1</td>\n",
       "      <td>1</td>\n",
       "      <td>309</td>\n",
       "      <td>1478</td>\n",
       "      <td>1169</td>\n",
       "      <td>6.330000e-158</td>\n",
       "      <td>555</td>\n",
       "      <td>Bacteria</td>\n",
       "      <td>Bacillus aquimaris strain TF-12 16S ribosomal ...</td>\n",
       "      <td>189382</td>\n",
       "      <td>Bacillus aquimaris</td>\n",
       "      <td>Bacillus aquimaris</td>\n",
       "      <td>firmicutes</td>\n",
       "    </tr>\n",
       "    <tr>\n",
       "      <th>3</th>\n",
       "      <td>Nav1.8_(D12</td>\n",
       "      <td>NR_025241.1</td>\n",
       "      <td>99.340</td>\n",
       "      <td>303</td>\n",
       "      <td>2</td>\n",
       "      <td>0</td>\n",
       "      <td>1</td>\n",
       "      <td>303</td>\n",
       "      <td>1205</td>\n",
       "      <td>1507</td>\n",
       "      <td>2.880000e-156</td>\n",
       "      <td>549</td>\n",
       "      <td>Bacteria</td>\n",
       "      <td>Bacillus aquimaris strain TF-12 16S ribosomal ...</td>\n",
       "      <td>189382</td>\n",
       "      <td>Bacillus aquimaris</td>\n",
       "      <td>Bacillus aquimaris</td>\n",
       "      <td>firmicutes</td>\n",
       "    </tr>\n",
       "    <tr>\n",
       "      <th>4</th>\n",
       "      <td>Nav2.2_(B10</td>\n",
       "      <td>NR_148756.1</td>\n",
       "      <td>97.840</td>\n",
       "      <td>324</td>\n",
       "      <td>6</td>\n",
       "      <td>1</td>\n",
       "      <td>1</td>\n",
       "      <td>323</td>\n",
       "      <td>1483</td>\n",
       "      <td>1160</td>\n",
       "      <td>5.130000e-159</td>\n",
       "      <td>558</td>\n",
       "      <td>Bacteria</td>\n",
       "      <td>Alteromonas mediterranea strain DE 16S ribosom...</td>\n",
       "      <td>314275</td>\n",
       "      <td>Alteromonas macleodii str. 'Deep ecotype'</td>\n",
       "      <td>Alteromonas macleodii str. 'Deep ecotype'</td>\n",
       "      <td>g-proteobacteria</td>\n",
       "    </tr>\n",
       "    <tr>\n",
       "      <th>5</th>\n",
       "      <td>Nav2.2_(D11</td>\n",
       "      <td>NR_148756.1</td>\n",
       "      <td>99.668</td>\n",
       "      <td>301</td>\n",
       "      <td>1</td>\n",
       "      <td>0</td>\n",
       "      <td>1</td>\n",
       "      <td>301</td>\n",
       "      <td>1213</td>\n",
       "      <td>1513</td>\n",
       "      <td>8.050000e-157</td>\n",
       "      <td>551</td>\n",
       "      <td>Bacteria</td>\n",
       "      <td>Alteromonas mediterranea strain DE 16S ribosom...</td>\n",
       "      <td>314275</td>\n",
       "      <td>Alteromonas macleodii str. 'Deep ecotype'</td>\n",
       "      <td>Alteromonas macleodii str. 'Deep ecotype'</td>\n",
       "      <td>g-proteobacteria</td>\n",
       "    </tr>\n",
       "    <tr>\n",
       "      <th>6</th>\n",
       "      <td>PET1.2_(A1</td>\n",
       "      <td>NR_148798.1</td>\n",
       "      <td>98.052</td>\n",
       "      <td>308</td>\n",
       "      <td>4</td>\n",
       "      <td>2</td>\n",
       "      <td>1</td>\n",
       "      <td>306</td>\n",
       "      <td>1466</td>\n",
       "      <td>1159</td>\n",
       "      <td>8.160000e-152</td>\n",
       "      <td>534</td>\n",
       "      <td>Bacteria</td>\n",
       "      <td>Pseudomonas populi strain KBL-4-9 16S ribosoma...</td>\n",
       "      <td>1500966</td>\n",
       "      <td>Pseudomonas sp. KBL-4-9</td>\n",
       "      <td>Pseudomonas sp. KBL-4-9</td>\n",
       "      <td>g-proteobacteria</td>\n",
       "    </tr>\n",
       "    <tr>\n",
       "      <th>7</th>\n",
       "      <td>PET1.2_(C2</td>\n",
       "      <td>NR_074812.1</td>\n",
       "      <td>97.436</td>\n",
       "      <td>312</td>\n",
       "      <td>8</td>\n",
       "      <td>0</td>\n",
       "      <td>1</td>\n",
       "      <td>312</td>\n",
       "      <td>1204</td>\n",
       "      <td>1515</td>\n",
       "      <td>3.000000e-151</td>\n",
       "      <td>532</td>\n",
       "      <td>Bacteria</td>\n",
       "      <td>Hahella chejuensis strain KCTC 2396 16S riboso...</td>\n",
       "      <td>158327</td>\n",
       "      <td>Hahella chejuensis</td>\n",
       "      <td>Hahella chejuensis</td>\n",
       "      <td>g-proteobacteria</td>\n",
       "    </tr>\n",
       "    <tr>\n",
       "      <th>8</th>\n",
       "      <td>PET1.8_(A12</td>\n",
       "      <td>NR_152090.1</td>\n",
       "      <td>100.000</td>\n",
       "      <td>302</td>\n",
       "      <td>0</td>\n",
       "      <td>0</td>\n",
       "      <td>2</td>\n",
       "      <td>303</td>\n",
       "      <td>1477</td>\n",
       "      <td>1176</td>\n",
       "      <td>4.790000e-159</td>\n",
       "      <td>558</td>\n",
       "      <td>Bacteria</td>\n",
       "      <td>Pseudomonas oceani strain DSM 100277 16S ribos...</td>\n",
       "      <td>1708783</td>\n",
       "      <td>Pseudomonas sp. DSM 100277</td>\n",
       "      <td>Pseudomonas sp. DSM 100277</td>\n",
       "      <td>g-proteobacteria</td>\n",
       "    </tr>\n",
       "    <tr>\n",
       "      <th>9</th>\n",
       "      <td>PET1.8_(D1</td>\n",
       "      <td>NR_152090.1</td>\n",
       "      <td>99.663</td>\n",
       "      <td>297</td>\n",
       "      <td>1</td>\n",
       "      <td>0</td>\n",
       "      <td>1</td>\n",
       "      <td>297</td>\n",
       "      <td>1199</td>\n",
       "      <td>1495</td>\n",
       "      <td>1.480000e-154</td>\n",
       "      <td>544</td>\n",
       "      <td>Bacteria</td>\n",
       "      <td>Pseudomonas oceani strain DSM 100277 16S ribos...</td>\n",
       "      <td>1708783</td>\n",
       "      <td>Pseudomonas sp. DSM 100277</td>\n",
       "      <td>Pseudomonas sp. DSM 100277</td>\n",
       "      <td>g-proteobacteria</td>\n",
       "    </tr>\n",
       "    <tr>\n",
       "      <th>10</th>\n",
       "      <td>PET2.2_(A2</td>\n",
       "      <td>NR_148756.1</td>\n",
       "      <td>99.071</td>\n",
       "      <td>323</td>\n",
       "      <td>2</td>\n",
       "      <td>1</td>\n",
       "      <td>1</td>\n",
       "      <td>323</td>\n",
       "      <td>1481</td>\n",
       "      <td>1160</td>\n",
       "      <td>3.970000e-165</td>\n",
       "      <td>579</td>\n",
       "      <td>Bacteria</td>\n",
       "      <td>Alteromonas mediterranea strain DE 16S ribosom...</td>\n",
       "      <td>314275</td>\n",
       "      <td>Alteromonas macleodii str. 'Deep ecotype'</td>\n",
       "      <td>Alteromonas macleodii str. 'Deep ecotype'</td>\n",
       "      <td>g-proteobacteria</td>\n",
       "    </tr>\n",
       "    <tr>\n",
       "      <th>11</th>\n",
       "      <td>PET2.2_(C3</td>\n",
       "      <td>NR_148756.1</td>\n",
       "      <td>100.000</td>\n",
       "      <td>296</td>\n",
       "      <td>0</td>\n",
       "      <td>0</td>\n",
       "      <td>1</td>\n",
       "      <td>296</td>\n",
       "      <td>1218</td>\n",
       "      <td>1513</td>\n",
       "      <td>1.020000e-155</td>\n",
       "      <td>547</td>\n",
       "      <td>Bacteria</td>\n",
       "      <td>Alteromonas mediterranea strain DE 16S ribosom...</td>\n",
       "      <td>314275</td>\n",
       "      <td>Alteromonas macleodii str. 'Deep ecotype'</td>\n",
       "      <td>Alteromonas macleodii str. 'Deep ecotype'</td>\n",
       "      <td>g-proteobacteria</td>\n",
       "    </tr>\n",
       "    <tr>\n",
       "      <th>12</th>\n",
       "      <td>PET2.8_(B1</td>\n",
       "      <td>NR_148756.1</td>\n",
       "      <td>98.457</td>\n",
       "      <td>324</td>\n",
       "      <td>4</td>\n",
       "      <td>1</td>\n",
       "      <td>1</td>\n",
       "      <td>323</td>\n",
       "      <td>1483</td>\n",
       "      <td>1160</td>\n",
       "      <td>2.370000e-162</td>\n",
       "      <td>569</td>\n",
       "      <td>Bacteria</td>\n",
       "      <td>Alteromonas mediterranea strain DE 16S ribosom...</td>\n",
       "      <td>314275</td>\n",
       "      <td>Alteromonas macleodii str. 'Deep ecotype'</td>\n",
       "      <td>Alteromonas macleodii str. 'Deep ecotype'</td>\n",
       "      <td>g-proteobacteria</td>\n",
       "    </tr>\n",
       "    <tr>\n",
       "      <th>13</th>\n",
       "      <td>PET2.8_(D2</td>\n",
       "      <td>NR_148756.1</td>\n",
       "      <td>100.000</td>\n",
       "      <td>303</td>\n",
       "      <td>0</td>\n",
       "      <td>0</td>\n",
       "      <td>1</td>\n",
       "      <td>303</td>\n",
       "      <td>1211</td>\n",
       "      <td>1513</td>\n",
       "      <td>1.340000e-159</td>\n",
       "      <td>560</td>\n",
       "      <td>Bacteria</td>\n",
       "      <td>Alteromonas mediterranea strain DE 16S ribosom...</td>\n",
       "      <td>314275</td>\n",
       "      <td>Alteromonas macleodii str. 'Deep ecotype'</td>\n",
       "      <td>Alteromonas macleodii str. 'Deep ecotype'</td>\n",
       "      <td>g-proteobacteria</td>\n",
       "    </tr>\n",
       "    <tr>\n",
       "      <th>14</th>\n",
       "      <td>PETsn1.2_(A3</td>\n",
       "      <td>NR_148756.1</td>\n",
       "      <td>100.000</td>\n",
       "      <td>304</td>\n",
       "      <td>0</td>\n",
       "      <td>0</td>\n",
       "      <td>1</td>\n",
       "      <td>304</td>\n",
       "      <td>1483</td>\n",
       "      <td>1180</td>\n",
       "      <td>3.720000e-160</td>\n",
       "      <td>562</td>\n",
       "      <td>Bacteria</td>\n",
       "      <td>Alteromonas mediterranea strain DE 16S ribosom...</td>\n",
       "      <td>314275</td>\n",
       "      <td>Alteromonas macleodii str. 'Deep ecotype'</td>\n",
       "      <td>Alteromonas macleodii str. 'Deep ecotype'</td>\n",
       "      <td>g-proteobacteria</td>\n",
       "    </tr>\n",
       "    <tr>\n",
       "      <th>15</th>\n",
       "      <td>PETsn1.2_(C4</td>\n",
       "      <td>NR_148756.1</td>\n",
       "      <td>100.000</td>\n",
       "      <td>304</td>\n",
       "      <td>0</td>\n",
       "      <td>0</td>\n",
       "      <td>1</td>\n",
       "      <td>304</td>\n",
       "      <td>1210</td>\n",
       "      <td>1513</td>\n",
       "      <td>3.740000e-160</td>\n",
       "      <td>562</td>\n",
       "      <td>Bacteria</td>\n",
       "      <td>Alteromonas mediterranea strain DE 16S ribosom...</td>\n",
       "      <td>314275</td>\n",
       "      <td>Alteromonas macleodii str. 'Deep ecotype'</td>\n",
       "      <td>Alteromonas macleodii str. 'Deep ecotype'</td>\n",
       "      <td>g-proteobacteria</td>\n",
       "    </tr>\n",
       "    <tr>\n",
       "      <th>16</th>\n",
       "      <td>PETsn1.8_(B2</td>\n",
       "      <td>NR_148756.1</td>\n",
       "      <td>98.418</td>\n",
       "      <td>316</td>\n",
       "      <td>3</td>\n",
       "      <td>2</td>\n",
       "      <td>28</td>\n",
       "      <td>343</td>\n",
       "      <td>1473</td>\n",
       "      <td>1160</td>\n",
       "      <td>7.110000e-158</td>\n",
       "      <td>555</td>\n",
       "      <td>Bacteria</td>\n",
       "      <td>Alteromonas mediterranea strain DE 16S ribosom...</td>\n",
       "      <td>314275</td>\n",
       "      <td>Alteromonas macleodii str. 'Deep ecotype'</td>\n",
       "      <td>Alteromonas macleodii str. 'Deep ecotype'</td>\n",
       "      <td>g-proteobacteria</td>\n",
       "    </tr>\n",
       "    <tr>\n",
       "      <th>17</th>\n",
       "      <td>PETsn1.8_(D3</td>\n",
       "      <td>NR_148756.1</td>\n",
       "      <td>99.338</td>\n",
       "      <td>302</td>\n",
       "      <td>2</td>\n",
       "      <td>0</td>\n",
       "      <td>1</td>\n",
       "      <td>302</td>\n",
       "      <td>1225</td>\n",
       "      <td>1526</td>\n",
       "      <td>1.030000e-155</td>\n",
       "      <td>547</td>\n",
       "      <td>Bacteria</td>\n",
       "      <td>Alteromonas mediterranea strain DE 16S ribosom...</td>\n",
       "      <td>314275</td>\n",
       "      <td>Alteromonas macleodii str. 'Deep ecotype'</td>\n",
       "      <td>Alteromonas macleodii str. 'Deep ecotype'</td>\n",
       "      <td>g-proteobacteria</td>\n",
       "    </tr>\n",
       "    <tr>\n",
       "      <th>18</th>\n",
       "      <td>PHBb1.2_(A8</td>\n",
       "      <td>NR_112983.1</td>\n",
       "      <td>100.000</td>\n",
       "      <td>288</td>\n",
       "      <td>0</td>\n",
       "      <td>0</td>\n",
       "      <td>2</td>\n",
       "      <td>289</td>\n",
       "      <td>1402</td>\n",
       "      <td>1115</td>\n",
       "      <td>2.760000e-151</td>\n",
       "      <td>532</td>\n",
       "      <td>Bacteria</td>\n",
       "      <td>Litoreibacter janthinus strain KMM 3842 16S ri...</td>\n",
       "      <td>670154</td>\n",
       "      <td>Litoreibacter janthinus</td>\n",
       "      <td>Litoreibacter janthinus</td>\n",
       "      <td>a-proteobacteria</td>\n",
       "    </tr>\n",
       "    <tr>\n",
       "      <th>19</th>\n",
       "      <td>PHBb1.2_(C9</td>\n",
       "      <td>NR_112983.1</td>\n",
       "      <td>99.659</td>\n",
       "      <td>293</td>\n",
       "      <td>0</td>\n",
       "      <td>1</td>\n",
       "      <td>1</td>\n",
       "      <td>293</td>\n",
       "      <td>1138</td>\n",
       "      <td>1429</td>\n",
       "      <td>7.790000e-152</td>\n",
       "      <td>534</td>\n",
       "      <td>Bacteria</td>\n",
       "      <td>Litoreibacter janthinus strain KMM 3842 16S ri...</td>\n",
       "      <td>670154</td>\n",
       "      <td>Litoreibacter janthinus</td>\n",
       "      <td>Litoreibacter janthinus</td>\n",
       "      <td>a-proteobacteria</td>\n",
       "    </tr>\n",
       "  </tbody>\n",
       "</table>\n",
       "</div>"
      ],
      "text/plain": [
       "          qseqid       sseqid   pident  length  mismatch  gapopen  qstart  \\\n",
       "0     Nav1.2_(B9  NR_151897.1   95.469     309        13        1       1   \n",
       "1    Nav1.2_(D10  NR_115063.1   98.058     309         3        3       1   \n",
       "2    Nav1.8_(B11  NR_025241.1   99.032     310         2        1       1   \n",
       "3    Nav1.8_(D12  NR_025241.1   99.340     303         2        0       1   \n",
       "4    Nav2.2_(B10  NR_148756.1   97.840     324         6        1       1   \n",
       "5    Nav2.2_(D11  NR_148756.1   99.668     301         1        0       1   \n",
       "6     PET1.2_(A1  NR_148798.1   98.052     308         4        2       1   \n",
       "7     PET1.2_(C2  NR_074812.1   97.436     312         8        0       1   \n",
       "8    PET1.8_(A12  NR_152090.1  100.000     302         0        0       2   \n",
       "9     PET1.8_(D1  NR_152090.1   99.663     297         1        0       1   \n",
       "10    PET2.2_(A2  NR_148756.1   99.071     323         2        1       1   \n",
       "11    PET2.2_(C3  NR_148756.1  100.000     296         0        0       1   \n",
       "12    PET2.8_(B1  NR_148756.1   98.457     324         4        1       1   \n",
       "13    PET2.8_(D2  NR_148756.1  100.000     303         0        0       1   \n",
       "14  PETsn1.2_(A3  NR_148756.1  100.000     304         0        0       1   \n",
       "15  PETsn1.2_(C4  NR_148756.1  100.000     304         0        0       1   \n",
       "16  PETsn1.8_(B2  NR_148756.1   98.418     316         3        2      28   \n",
       "17  PETsn1.8_(D3  NR_148756.1   99.338     302         2        0       1   \n",
       "18   PHBb1.2_(A8  NR_112983.1  100.000     288         0        0       2   \n",
       "19   PHBb1.2_(C9  NR_112983.1   99.659     293         0        1       1   \n",
       "\n",
       "    qend  sstart  send         evalue  bitscore sskingdoms  \\\n",
       "0    308    1495  1187  5.020000e-139       492   Bacteria   \n",
       "1    306    1214  1522  8.160000e-152       534   Bacteria   \n",
       "2    309    1478  1169  6.330000e-158       555   Bacteria   \n",
       "3    303    1205  1507  2.880000e-156       549   Bacteria   \n",
       "4    323    1483  1160  5.130000e-159       558   Bacteria   \n",
       "5    301    1213  1513  8.050000e-157       551   Bacteria   \n",
       "6    306    1466  1159  8.160000e-152       534   Bacteria   \n",
       "7    312    1204  1515  3.000000e-151       532   Bacteria   \n",
       "8    303    1477  1176  4.790000e-159       558   Bacteria   \n",
       "9    297    1199  1495  1.480000e-154       544   Bacteria   \n",
       "10   323    1481  1160  3.970000e-165       579   Bacteria   \n",
       "11   296    1218  1513  1.020000e-155       547   Bacteria   \n",
       "12   323    1483  1160  2.370000e-162       569   Bacteria   \n",
       "13   303    1211  1513  1.340000e-159       560   Bacteria   \n",
       "14   304    1483  1180  3.720000e-160       562   Bacteria   \n",
       "15   304    1210  1513  3.740000e-160       562   Bacteria   \n",
       "16   343    1473  1160  7.110000e-158       555   Bacteria   \n",
       "17   302    1225  1526  1.030000e-155       547   Bacteria   \n",
       "18   289    1402  1115  2.760000e-151       532   Bacteria   \n",
       "19   293    1138  1429  7.790000e-152       534   Bacteria   \n",
       "\n",
       "                                               stitle  staxids  \\\n",
       "0   Bacillus nakamurai strain NRRL B-41091 16S rib...  1793963   \n",
       "1   Bacillus halotolerans strain DSM 8802 16S ribo...   260554   \n",
       "2   Bacillus aquimaris strain TF-12 16S ribosomal ...   189382   \n",
       "3   Bacillus aquimaris strain TF-12 16S ribosomal ...   189382   \n",
       "4   Alteromonas mediterranea strain DE 16S ribosom...   314275   \n",
       "5   Alteromonas mediterranea strain DE 16S ribosom...   314275   \n",
       "6   Pseudomonas populi strain KBL-4-9 16S ribosoma...  1500966   \n",
       "7   Hahella chejuensis strain KCTC 2396 16S riboso...   158327   \n",
       "8   Pseudomonas oceani strain DSM 100277 16S ribos...  1708783   \n",
       "9   Pseudomonas oceani strain DSM 100277 16S ribos...  1708783   \n",
       "10  Alteromonas mediterranea strain DE 16S ribosom...   314275   \n",
       "11  Alteromonas mediterranea strain DE 16S ribosom...   314275   \n",
       "12  Alteromonas mediterranea strain DE 16S ribosom...   314275   \n",
       "13  Alteromonas mediterranea strain DE 16S ribosom...   314275   \n",
       "14  Alteromonas mediterranea strain DE 16S ribosom...   314275   \n",
       "15  Alteromonas mediterranea strain DE 16S ribosom...   314275   \n",
       "16  Alteromonas mediterranea strain DE 16S ribosom...   314275   \n",
       "17  Alteromonas mediterranea strain DE 16S ribosom...   314275   \n",
       "18  Litoreibacter janthinus strain KMM 3842 16S ri...   670154   \n",
       "19  Litoreibacter janthinus strain KMM 3842 16S ri...   670154   \n",
       "\n",
       "                                    sscinames  \\\n",
       "0                   Bacillus sp. NRRL B-41091   \n",
       "1               [Brevibacterium] halotolerans   \n",
       "2                          Bacillus aquimaris   \n",
       "3                          Bacillus aquimaris   \n",
       "4   Alteromonas macleodii str. 'Deep ecotype'   \n",
       "5   Alteromonas macleodii str. 'Deep ecotype'   \n",
       "6                     Pseudomonas sp. KBL-4-9   \n",
       "7                          Hahella chejuensis   \n",
       "8                  Pseudomonas sp. DSM 100277   \n",
       "9                  Pseudomonas sp. DSM 100277   \n",
       "10  Alteromonas macleodii str. 'Deep ecotype'   \n",
       "11  Alteromonas macleodii str. 'Deep ecotype'   \n",
       "12  Alteromonas macleodii str. 'Deep ecotype'   \n",
       "13  Alteromonas macleodii str. 'Deep ecotype'   \n",
       "14  Alteromonas macleodii str. 'Deep ecotype'   \n",
       "15  Alteromonas macleodii str. 'Deep ecotype'   \n",
       "16  Alteromonas macleodii str. 'Deep ecotype'   \n",
       "17  Alteromonas macleodii str. 'Deep ecotype'   \n",
       "18                    Litoreibacter janthinus   \n",
       "19                    Litoreibacter janthinus   \n",
       "\n",
       "                                    scomnames       sblastnames  \n",
       "0                   Bacillus sp. NRRL B-41091        firmicutes  \n",
       "1               [Brevibacterium] halotolerans        firmicutes  \n",
       "2                          Bacillus aquimaris        firmicutes  \n",
       "3                          Bacillus aquimaris        firmicutes  \n",
       "4   Alteromonas macleodii str. 'Deep ecotype'  g-proteobacteria  \n",
       "5   Alteromonas macleodii str. 'Deep ecotype'  g-proteobacteria  \n",
       "6                     Pseudomonas sp. KBL-4-9  g-proteobacteria  \n",
       "7                          Hahella chejuensis  g-proteobacteria  \n",
       "8                  Pseudomonas sp. DSM 100277  g-proteobacteria  \n",
       "9                  Pseudomonas sp. DSM 100277  g-proteobacteria  \n",
       "10  Alteromonas macleodii str. 'Deep ecotype'  g-proteobacteria  \n",
       "11  Alteromonas macleodii str. 'Deep ecotype'  g-proteobacteria  \n",
       "12  Alteromonas macleodii str. 'Deep ecotype'  g-proteobacteria  \n",
       "13  Alteromonas macleodii str. 'Deep ecotype'  g-proteobacteria  \n",
       "14  Alteromonas macleodii str. 'Deep ecotype'  g-proteobacteria  \n",
       "15  Alteromonas macleodii str. 'Deep ecotype'  g-proteobacteria  \n",
       "16  Alteromonas macleodii str. 'Deep ecotype'  g-proteobacteria  \n",
       "17  Alteromonas macleodii str. 'Deep ecotype'  g-proteobacteria  \n",
       "18                    Litoreibacter janthinus  a-proteobacteria  \n",
       "19                    Litoreibacter janthinus  a-proteobacteria  "
      ]
     },
     "execution_count": 21,
     "metadata": {},
     "output_type": "execute_result"
    }
   ],
   "source": [
    "ftab=pd.read_table(\"secuencias.tab\", header=None , names= encabezado)\n",
    "ftab"
   ]
  },
  {
   "cell_type": "markdown",
   "metadata": {},
   "source": [
    "### Describa que es lo que esta observando y qué puede decir de todas las secuencias "
   ]
  },
  {
   "cell_type": "code",
   "execution_count": null,
   "metadata": {
    "collapsed": true
   },
   "outputs": [],
   "source": []
  },
  {
   "cell_type": "markdown",
   "metadata": {},
   "source": [
    "### Podrían eliminarse algunas columnas? Cuál(es)?"
   ]
  },
  {
   "cell_type": "code",
   "execution_count": null,
   "metadata": {},
   "outputs": [],
   "source": []
  },
  {
   "cell_type": "markdown",
   "metadata": {
    "collapsed": true
   },
   "source": [
    "# Qué ocurrirá su usa el comando `ftab.head()`?"
   ]
  },
  {
   "cell_type": "code",
   "execution_count": null,
   "metadata": {},
   "outputs": [],
   "source": []
  },
  {
   "cell_type": "markdown",
   "metadata": {},
   "source": [
    "### Con el fin de resumir la informacion se agruparan considerando el nombre cientifico (sscinames), contando el numero de casos en donde se encontro una asignacion"
   ]
  },
  {
   "cell_type": "code",
   "execution_count": 32,
   "metadata": {},
   "outputs": [
    {
     "data": {
      "text/html": [
       "<div>\n",
       "<style scoped>\n",
       "    .dataframe tbody tr th:only-of-type {\n",
       "        vertical-align: middle;\n",
       "    }\n",
       "\n",
       "    .dataframe tbody tr th {\n",
       "        vertical-align: top;\n",
       "    }\n",
       "\n",
       "    .dataframe thead th {\n",
       "        text-align: right;\n",
       "    }\n",
       "</style>\n",
       "<table border=\"1\" class=\"dataframe\">\n",
       "  <thead>\n",
       "    <tr style=\"text-align: right;\">\n",
       "      <th></th>\n",
       "      <th>qseqid</th>\n",
       "    </tr>\n",
       "    <tr>\n",
       "      <th>sscinames</th>\n",
       "      <th></th>\n",
       "    </tr>\n",
       "  </thead>\n",
       "  <tbody>\n",
       "    <tr>\n",
       "      <th>Alteromonas macleodii str. 'Deep ecotype'</th>\n",
       "      <td>10</td>\n",
       "    </tr>\n",
       "    <tr>\n",
       "      <th>Bacillus aquimaris</th>\n",
       "      <td>2</td>\n",
       "    </tr>\n",
       "    <tr>\n",
       "      <th>Bacillus sp. NRRL B-41091</th>\n",
       "      <td>1</td>\n",
       "    </tr>\n",
       "    <tr>\n",
       "      <th>Hahella chejuensis</th>\n",
       "      <td>1</td>\n",
       "    </tr>\n",
       "    <tr>\n",
       "      <th>Litoreibacter janthinus</th>\n",
       "      <td>2</td>\n",
       "    </tr>\n",
       "    <tr>\n",
       "      <th>Pseudomonas sp. DSM 100277</th>\n",
       "      <td>2</td>\n",
       "    </tr>\n",
       "    <tr>\n",
       "      <th>Pseudomonas sp. KBL-4-9</th>\n",
       "      <td>1</td>\n",
       "    </tr>\n",
       "    <tr>\n",
       "      <th>[Brevibacterium] halotolerans</th>\n",
       "      <td>1</td>\n",
       "    </tr>\n",
       "  </tbody>\n",
       "</table>\n",
       "</div>"
      ],
      "text/plain": [
       "                                           qseqid\n",
       "sscinames                                        \n",
       "Alteromonas macleodii str. 'Deep ecotype'      10\n",
       "Bacillus aquimaris                              2\n",
       "Bacillus sp. NRRL B-41091                       1\n",
       "Hahella chejuensis                              1\n",
       "Litoreibacter janthinus                         2\n",
       "Pseudomonas sp. DSM 100277                      2\n",
       "Pseudomonas sp. KBL-4-9                         1\n",
       "[Brevibacterium] halotolerans                   1"
      ]
     },
     "execution_count": 32,
     "metadata": {},
     "output_type": "execute_result"
    }
   ],
   "source": [
    "ftab1= ftab.groupby(\"sscinames\")[\"qseqid\"].count()\n",
    "ftab1 = DataFrame(ftab1)\n",
    "ftab1"
   ]
  },
  {
   "cell_type": "markdown",
   "metadata": {},
   "source": [
    "## para guardar esta informacion se utiliza pandas para guardarlo con formato csv (valores separados por comas)"
   ]
  },
  {
   "cell_type": "code",
   "execution_count": 24,
   "metadata": {},
   "outputs": [],
   "source": [
    "ftab1.to_csv(\"secuencias_especies.csv\")"
   ]
  },
  {
   "cell_type": "code",
   "execution_count": 25,
   "metadata": {},
   "outputs": [
    {
     "name": "stdout",
     "output_type": "stream",
     "text": [
      "secuencias.fasta  secuencias.tab  secuencias_especies.csv\r\n"
     ]
    }
   ],
   "source": [
    "ls"
   ]
  },
  {
   "cell_type": "markdown",
   "metadata": {},
   "source": [
    "### Que diferencia hay si solamente utiliza estos comandos?"
   ]
  },
  {
   "cell_type": "code",
   "execution_count": 63,
   "metadata": {},
   "outputs": [
    {
     "data": {
      "text/plain": [
       "sscinames\n",
       "Alteromonas macleodii str. 'Deep ecotype'    10\n",
       "Bacillus aquimaris                            2\n",
       "Bacillus sp. NRRL B-41091                     1\n",
       "Hahella chejuensis                            1\n",
       "Litoreibacter janthinus                       2\n",
       "Pseudomonas sp. DSM 100277                    2\n",
       "Pseudomonas sp. KBL-4-9                       1\n",
       "[Brevibacterium] halotolerans                 1\n",
       "Name: qseqid, dtype: int64"
      ]
     },
     "execution_count": 63,
     "metadata": {},
     "output_type": "execute_result"
    }
   ],
   "source": [
    "ftab1= ftab.groupby(\"sscinames\")[\"qseqid\"].count()\n",
    "ftab1"
   ]
  },
  {
   "cell_type": "code",
   "execution_count": null,
   "metadata": {},
   "outputs": [],
   "source": []
  },
  {
   "cell_type": "code",
   "execution_count": null,
   "metadata": {},
   "outputs": [],
   "source": []
  },
  {
   "cell_type": "markdown",
   "metadata": {
    "collapsed": true
   },
   "source": [
    "## cuál considera mas facil de leer?"
   ]
  },
  {
   "cell_type": "code",
   "execution_count": null,
   "metadata": {},
   "outputs": [],
   "source": []
  },
  {
   "cell_type": "code",
   "execution_count": null,
   "metadata": {},
   "outputs": [],
   "source": []
  },
  {
   "cell_type": "markdown",
   "metadata": {},
   "source": [
    "## Para graficar los resultados se cargan las bibliotecas pylab y matplotlib\n",
    "Ya vienen integrados con el python y no es necesario descargarlos. Si requiere información adicional:\n",
    "https://matplotlib.org\n"
   ]
  },
  {
   "cell_type": "code",
   "execution_count": 34,
   "metadata": {},
   "outputs": [],
   "source": [
    "import pylab\n",
    "import matplotlib.pyplot as plt\n",
    "%matplotlib inline"
   ]
  },
  {
   "cell_type": "markdown",
   "metadata": {},
   "source": [
    "## que hace al último comando?\n",
    "`%matplotlib inline`"
   ]
  },
  {
   "cell_type": "code",
   "execution_count": null,
   "metadata": {
    "collapsed": true
   },
   "outputs": [],
   "source": []
  },
  {
   "cell_type": "markdown",
   "metadata": {},
   "source": [
    "## para graficar "
   ]
  },
  {
   "cell_type": "code",
   "execution_count": 35,
   "metadata": {},
   "outputs": [
    {
     "data": {
      "image/png": "[encoded data removed]",
      "text/plain": [
       "<Figure size 432x288 with 1 Axes>"
      ]
     },
     "metadata": {},
     "output_type": "display_data"
    }
   ],
   "source": [
    "plt.pie(ftab1,\n",
    "       labels=ftab1.index\n",
    "       )\n",
    "plt.show()"
   ]
  },
  {
   "cell_type": "markdown",
   "metadata": {},
   "source": [
    "### revise el manual del plt.pi y modifique los comandos para que en la grafica se observen todas las leyendas sin traslaparse"
   ]
  },
  {
   "cell_type": "code",
   "execution_count": 29,
   "metadata": {},
   "outputs": [],
   "source": [
    "?plt.pie"
   ]
  },
  {
   "cell_type": "code",
   "execution_count": 36,
   "metadata": {},
   "outputs": [
    {
     "name": "stdout",
     "output_type": "stream",
     "text": [
      "save figure\n"
     ]
    },
    {
     "data": {
      "image/png": "[encoded data removed]",
      "text/plain": [
       "<Figure size 432x288 with 1 Axes>"
      ]
     },
     "metadata": {},
     "output_type": "display_data"
    }
   ],
   "source": [
    "plt.pie(ftab1,\n",
    "        labels=ftab1.index,\n",
    "       )\n",
    "yes = input(\"save figure\")\n",
    "if yes.lower()==\"y\":\n",
    "    plt.savefig('./img/secuencias_pie.png', \n",
    "                dpi=800, bbox_inches='tight')\n",
    "\n",
    "plt.show()\n",
    "\n"
   ]
  },
  {
   "cell_type": "code",
   "execution_count": 37,
   "metadata": {},
   "outputs": [
    {
     "data": {
      "image/png": "[encoded data removed]",
      "text/plain": [
       "<Figure size 432x288 with 1 Axes>"
      ]
     },
     "metadata": {},
     "output_type": "display_data"
    }
   ],
   "source": [
    "ftab1.plot(kind='barh', color=list('gybr'))\n",
    "plt.axis([0, max (ftab1)+1, -1, len (ftab1.index)], label=None)\n",
    "pylab.xlabel(\"Frecuencia\")\n",
    "pylab.ylabel(\"Especies\")\n",
    "plt.show()"
   ]
  },
  {
   "cell_type": "code",
   "execution_count": 62,
   "metadata": {},
   "outputs": [
    {
     "ename": "TypeError",
     "evalue": "sort_values() missing 1 required positional argument: 'by'",
     "output_type": "error",
     "traceback": [
      "\u001b[0;31m\u001b[0m",
      "\u001b[0;31mTypeError\u001b[0mTraceback (most recent call last)",
      "\u001b[0;32m<ipython-input-62-24ac45d3a414>\u001b[0m in \u001b[0;36m<module>\u001b[0;34m()\u001b[0m\n\u001b[0;32m----> 1\u001b[0;31m \u001b[0mftab2\u001b[0m \u001b[0;34m=\u001b[0m \u001b[0mftab1\u001b[0m\u001b[0;34m.\u001b[0m\u001b[0msort_values\u001b[0m\u001b[0;34m(\u001b[0m \u001b[0mascending\u001b[0m\u001b[0;34m=\u001b[0m\u001b[0;32mTrue\u001b[0m\u001b[0;34m)\u001b[0m\u001b[0;34m\u001b[0m\u001b[0m\n\u001b[0m\u001b[1;32m      2\u001b[0m \u001b[0mftab2\u001b[0m\u001b[0;34m\u001b[0m\u001b[0m\n",
      "\u001b[0;31mTypeError\u001b[0m: sort_values() missing 1 required positional argument: 'by'"
     ]
    }
   ],
   "source": [
    "ftab2 = ftab1.sort_values( ascending=True)\n",
    "ftab2\n"
   ]
  },
  {
   "cell_type": "code",
   "execution_count": 39,
   "metadata": {},
   "outputs": [
    {
     "data": {
      "image/png": "[encoded data removed]",
      "text/plain": [
       "<Figure size 432x288 with 1 Axes>"
      ]
     },
     "metadata": {},
     "output_type": "display_data"
    }
   ],
   "source": [
    "ftab2.plot(kind='barh', color=list('gybr'))\n",
    "plt.axis([0, max (ftab1)+1, -1, len (ftab1.index)], label=None)\n",
    "pylab.xlabel(\"Frecuencia\")\n",
    "pylab.ylabel(\"Especies\")\n",
    "plt.show()"
   ]
  },
  {
   "cell_type": "code",
   "execution_count": null,
   "metadata": {
    "collapsed": true
   },
   "outputs": [],
   "source": []
  },
  {
   "cell_type": "markdown",
   "metadata": {
    "collapsed": true
   },
   "source": [
    "### Si en vez de utilizar \"sscinames\" se usa \"sblastnames\""
   ]
  },
  {
   "cell_type": "code",
   "execution_count": 64,
   "metadata": {},
   "outputs": [
    {
     "data": {
      "text/plain": [
       "sblastnames\n",
       "a-proteobacteria     2\n",
       "firmicutes           4\n",
       "g-proteobacteria    14\n",
       "Name: qseqid, dtype: int64"
      ]
     },
     "execution_count": 64,
     "metadata": {},
     "output_type": "execute_result"
    }
   ],
   "source": [
    "ftab1= ftab.groupby(\"sblastnames\")[\"qseqid\"].count()\n",
    "ftab1"
   ]
  },
  {
   "cell_type": "code",
   "execution_count": 72,
   "metadata": {},
   "outputs": [
    {
     "data": {
      "text/plain": [
       "sblastnames\n",
       "g-proteobacteria    14\n",
       "firmicutes           4\n",
       "a-proteobacteria     2\n",
       "Name: qseqid, dtype: int64"
      ]
     },
     "execution_count": 72,
     "metadata": {},
     "output_type": "execute_result"
    }
   ],
   "source": [
    "ftab2 = ftab1.sort_values(ascending=False)\n",
    "ftab2\n"
   ]
  },
  {
   "cell_type": "code",
   "execution_count": 73,
   "metadata": {},
   "outputs": [
    {
     "data": {
      "image/png": "[encoded data removed]",
      "text/plain": [
       "<Figure size 432x288 with 1 Axes>"
      ]
     },
     "metadata": {},
     "output_type": "display_data"
    }
   ],
   "source": [
    "ftab2.plot(kind='barh', color=list('gybr'))\n",
    "plt.axis([0, max (ftab1)+1, -1, len (ftab1.index)], label=None)\n",
    "pylab.xlabel(\"Frecuencia\")\n",
    "pylab.ylabel(\"Especies\")\n",
    "plt.show()"
   ]
  },
  {
   "cell_type": "code",
   "execution_count": null,
   "metadata": {},
   "outputs": [],
   "source": []
  }
 ],
 "metadata": {
  "kernelspec": {
   "display_name": "Python 3",
   "language": "python",
   "name": "python3"
  },
  "language_info": {
   "codemirror_mode": {
    "name": "ipython",
    "version": 3
   },
   "file_extension": ".py",
   "mimetype": "text/x-python",
   "name": "python",
   "nbconvert_exporter": "python",
   "pygments_lexer": "ipython3",
   "version": "3.6.5"
  }
 },
 "nbformat": 4,
 "nbformat_minor": 2
}
