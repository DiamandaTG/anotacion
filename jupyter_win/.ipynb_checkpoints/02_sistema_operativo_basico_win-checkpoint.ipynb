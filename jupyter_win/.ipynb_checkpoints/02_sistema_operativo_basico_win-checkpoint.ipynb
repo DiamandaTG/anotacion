{
 "cells": [
  {
   "cell_type": "markdown",
   "metadata": {},
   "source": [
    "# Bitácora para manejo de archivos y sistema operativo"
   ]
  },
  {
   "cell_type": "markdown",
   "metadata": {},
   "source": [
    "Todos los sistemas operativos tiene una opción de manejo a través de la línea de comando\n",
    "<img src= \"img/cmd_windows.png\" width = 75%>\n",
    "<img src= \"img/jupyter_terminal.png\" width = 75%>\n",
    "Comandos básicos del sistema operativo"
   ]
  },
  {
   "cell_type": "markdown",
   "metadata": {},
   "source": [
    "|operación | linux/unix/iOS|Windows|\n",
    "|:----------:|:---------------|-------:|\n",
    "|lista de archivos|`ls` |`dir`|\n",
    "|cambio de directorio| `cd` nombre_del_diectorio| `cd` nombre_del_diectorio|\n",
    "|cd directorio por omisión (home)| `cd` |`cd` *|\n",
    "|crear un nuevo directorio| `mkdir` nombre del directorio| `md` nombre_del_directorio|\n",
    "|borrar un directorio | `rmdir` nombre_del_directorio| `del` nombre_del_directorio|\n",
    "|copiar archivos|`cp` nombre_del_archivo lugar_a_donde_se_va_a_copiar|`copy` nombre_del_archivo lugar_a_donde_se_va_a_copiar|\n",
    "\n",
    "* solo dentro de jupyter, en caso de usar el `cmd` entonces el directorio por omisión es raíz `C:\\`"
   ]
  },
  {
   "cell_type": "markdown",
   "metadata": {},
   "source": [
    "# Ejercicios"
   ]
  },
  {
   "cell_type": "markdown",
   "metadata": {},
   "source": [
    "### directorio de trabajo"
   ]
  },
  {
   "cell_type": "code",
   "execution_count": 1,
   "metadata": {},
   "outputs": [
    {
     "name": "stdout",
     "output_type": "stream",
     "text": [
      "C:\\Users\\labgenac\n"
     ]
    }
   ],
   "source": [
    "cd "
   ]
  },
  {
   "cell_type": "markdown",
   "metadata": {},
   "source": [
    "**En qué directorio me encuentro?**"
   ]
  },
  {
   "cell_type": "code",
   "execution_count": 2,
   "metadata": {},
   "outputs": [
    {
     "data": {
      "text/plain": [
       "'C:\\\\Users\\\\labgenac'"
      ]
     },
     "execution_count": 2,
     "metadata": {},
     "output_type": "execute_result"
    }
   ],
   "source": [
    "pwd "
   ]
  },
  {
   "cell_type": "markdown",
   "metadata": {},
   "source": [
    "**Observe la diferencia de presentación de la información entre ambos comandos**\n",
    "`C:\\Users\\labgenac`\n",
    "\n",
    "`'C:\\\\Users\\\\labgenac'`\n",
    "\n",
    "Esto solo ocurre en Windows, en linux y iOS los directorios están dados como:\n",
    "\n",
    "`/c/Users/labgenac`"
   ]
  },
  {
   "cell_type": "markdown",
   "metadata": {},
   "source": [
    "#### Cambio de directorio"
   ]
  },
  {
   "cell_type": "code",
   "execution_count": 3,
   "metadata": {},
   "outputs": [
    {
     "name": "stdout",
     "output_type": "stream",
     "text": [
      "C:\\Users\\labgenac\\Desktop\n"
     ]
    }
   ],
   "source": [
    "cd Desktop/"
   ]
  },
  {
   "cell_type": "markdown",
   "metadata": {
    "collapsed": true
   },
   "source": [
    "#### Cambio de directorio al \"home\""
   ]
  },
  {
   "cell_type": "code",
   "execution_count": 4,
   "metadata": {},
   "outputs": [
    {
     "name": "stdout",
     "output_type": "stream",
     "text": [
      "C:\\Users\\labgenac\n"
     ]
    }
   ],
   "source": [
    "cd"
   ]
  },
  {
   "cell_type": "markdown",
   "metadata": {},
   "source": [
    "### El listado de archivos en el directorio se obtiene con el comando `ls` "
   ]
  },
  {
   "cell_type": "code",
   "execution_count": 6,
   "metadata": {},
   "outputs": [
    {
     "name": "stdout",
     "output_type": "stream",
     "text": [
      " El volumen de la unidad C es Windows\n",
      " El número de serie del volumen es: 40EA-5D95\n",
      "\n",
      " Directorio de C:\\Users\\labgenac\n",
      "\n",
      "24/07/2018  08:04 p. m.    <DIR>          .\n",
      "24/07/2018  08:04 p. m.    <DIR>          ..\n",
      "24/07/2018  05:52 p. m.    <DIR>          .anaconda\n",
      "27/07/2018  08:19 p. m.    <DIR>          .conda\n",
      "27/07/2018  07:40 p. m.                43 .condarc\n",
      "24/07/2018  07:41 p. m.               126 .gitconfig\n",
      "24/07/2018  07:25 p. m.    <DIR>          .ipython\n",
      "24/07/2018  08:00 p. m.    <DIR>          .jupyter\n",
      "24/07/2018  08:07 p. m.    <DIR>          .matplotlib\n",
      "11/07/2018  09:43 p. m.    <DIR>          .vscode\n",
      "24/07/2018  06:09 p. m.    <DIR>          3D Objects\n",
      "24/07/2018  06:56 p. m.    <DIR>          Anaconda3\n",
      "11/07/2018  08:59 p. m.    <DIR>          Contacts\n",
      "27/07/2018  07:45 p. m.    <DIR>          Desktop\n",
      "24/07/2018  06:34 p. m.    <DIR>          Documents\n",
      "24/07/2018  07:54 p. m.    <DIR>          Downloads\n",
      "11/07/2018  08:59 p. m.    <DIR>          Favorites\n",
      "11/07/2018  08:59 p. m.    <DIR>          Links\n",
      "11/07/2018  08:59 p. m.    <DIR>          Music\n",
      "24/07/2018  05:57 p. m.    <DIR>          OneDrive\n",
      "11/07/2018  09:01 p. m.    <DIR>          Pictures\n",
      "11/07/2018  09:00 p. m.    <DIR>          Searches\n",
      "11/07/2018  08:59 p. m.    <DIR>          Videos\n",
      "               2 archivos            169 bytes\n",
      "              21 dirs  866,972,581,888 bytes libres\n"
     ]
    }
   ],
   "source": [
    "ls"
   ]
  },
  {
   "cell_type": "markdown",
   "metadata": {},
   "source": [
    "**Es posible dar toda la dirección completa a donde se desea ir**"
   ]
  },
  {
   "cell_type": "code",
   "execution_count": 7,
   "metadata": {},
   "outputs": [
    {
     "name": "stdout",
     "output_type": "stream",
     "text": [
      "C:\\Users\\labgenac\\Desktop\\data\n"
     ]
    }
   ],
   "source": [
    "cd Desktop/data"
   ]
  },
  {
   "cell_type": "code",
   "execution_count": 8,
   "metadata": {},
   "outputs": [
    {
     "name": "stdout",
     "output_type": "stream",
     "text": [
      " El volumen de la unidad C es Windows\n",
      " El número de serie del volumen es: 40EA-5D95\n",
      "\n",
      " Directorio de C:\\Users\\labgenac\\Desktop\\data\n",
      "\n",
      "24/07/2018  06:01 p. m.    <DIR>          .\n",
      "24/07/2018  06:01 p. m.    <DIR>          ..\n",
      "20/07/2018  09:51 a. m.    <DIR>          ab1\n",
      "24/07/2018  06:01 p. m.    <DIR>          ejercicio_fastqc\n",
      "24/07/2018  06:01 p. m.    <DIR>          exp_sacaro\n",
      "24/07/2018  06:01 p. m.    <DIR>          exp_seq\n",
      "24/07/2018  06:01 p. m.    <DIR>          exp710\n",
      "24/07/2018  08:08 p. m.    <DIR>          fasta\n",
      "               0 archivos              0 bytes\n",
      "               8 dirs  866,964,185,088 bytes libres\n"
     ]
    }
   ],
   "source": [
    "ls"
   ]
  },
  {
   "cell_type": "markdown",
   "metadata": {},
   "source": [
    "## En la siguiente celda describa los comandos\n",
    "`pwd` \n",
    "`cd` \n",
    "`ls`\n",
    "\n",
    "use el markdown para usar diferentes tipos de letra en su respuesta"
   ]
  },
  {
   "cell_type": "code",
   "execution_count": null,
   "metadata": {},
   "outputs": [],
   "source": []
  },
  {
   "cell_type": "markdown",
   "metadata": {},
   "source": [
    "### Para crear un directorio nuevo se utiliza el comando `mkdir`"
   ]
  },
  {
   "cell_type": "code",
   "execution_count": 27,
   "metadata": {},
   "outputs": [],
   "source": [
    "mkdir borrardirectorio"
   ]
  },
  {
   "cell_type": "code",
   "execution_count": 28,
   "metadata": {},
   "outputs": [
    {
     "name": "stdout",
     "output_type": "stream",
     "text": [
      " El volumen de la unidad C no tiene etiqueta.\n",
      " El número de serie del volumen es: 4C69-5113\n",
      "\n",
      " Directorio de C:\\Users\\SalaD26\\Desktop\\data\n",
      "\n",
      "26/07/2018  11:25 a. m.    <DIR>          .\n",
      "26/07/2018  11:25 a. m.    <DIR>          ..\n",
      "26/07/2018  10:05 a. m.    <DIR>          ab1\n",
      "26/07/2018  11:25 a. m.    <DIR>          borrardirectorio\n",
      "23/07/2018  11:51 a. m.    <DIR>          ejercicio_fastqc\n",
      "20/07/2018  12:51 p. m.    <DIR>          exp_sacaro\n",
      "20/07/2018  12:50 p. m.    <DIR>          exp_seq\n",
      "20/07/2018  04:58 p. m.    <DIR>          exp710\n",
      "26/07/2018  10:21 a. m.    <DIR>          fasta\n",
      "               0 archivos              0 bytes\n",
      "               9 dirs  82,859,376,640 bytes libres\n"
     ]
    }
   ],
   "source": [
    "ls"
   ]
  },
  {
   "cell_type": "markdown",
   "metadata": {},
   "source": [
    "### Para borrar un directorio se utiliza el comando `rmdir`\n",
    "***Este directorio deberá estar vacío**"
   ]
  },
  {
   "cell_type": "code",
   "execution_count": 29,
   "metadata": {},
   "outputs": [],
   "source": [
    "rmdir borrardirectorio"
   ]
  },
  {
   "cell_type": "code",
   "execution_count": 30,
   "metadata": {},
   "outputs": [
    {
     "name": "stdout",
     "output_type": "stream",
     "text": [
      " El volumen de la unidad C no tiene etiqueta.\n",
      " El número de serie del volumen es: 4C69-5113\n",
      "\n",
      " Directorio de C:\\Users\\SalaD26\\Desktop\\data\n",
      "\n",
      "26/07/2018  11:25 a. m.    <DIR>          .\n",
      "26/07/2018  11:25 a. m.    <DIR>          ..\n",
      "26/07/2018  10:05 a. m.    <DIR>          ab1\n",
      "23/07/2018  11:51 a. m.    <DIR>          ejercicio_fastqc\n",
      "20/07/2018  12:51 p. m.    <DIR>          exp_sacaro\n",
      "20/07/2018  12:50 p. m.    <DIR>          exp_seq\n",
      "20/07/2018  04:58 p. m.    <DIR>          exp710\n",
      "26/07/2018  10:21 a. m.    <DIR>          fasta\n",
      "               0 archivos              0 bytes\n",
      "               8 dirs  82,859,233,280 bytes libres\n"
     ]
    }
   ],
   "source": [
    "ls"
   ]
  },
  {
   "cell_type": "markdown",
   "metadata": {},
   "source": [
    "**Para cambiar al directorio superior de donde se encuentra**"
   ]
  },
  {
   "cell_type": "code",
   "execution_count": 31,
   "metadata": {},
   "outputs": [
    {
     "name": "stdout",
     "output_type": "stream",
     "text": [
      "C:\\Users\\SalaD26\\Desktop\n"
     ]
    }
   ],
   "source": [
    "cd .."
   ]
  },
  {
   "cell_type": "markdown",
   "metadata": {},
   "source": [
    "### Se pueden visualizar los directorios sin necesidad de cambiar el directorio. Por ejemplo para listar los archivos del directorio `data` se utilza el comando \n",
    "`ls data\\`"
   ]
  },
  {
   "cell_type": "code",
   "execution_count": 32,
   "metadata": {},
   "outputs": [
    {
     "name": "stdout",
     "output_type": "stream",
     "text": [
      " El volumen de la unidad C no tiene etiqueta.\n",
      " El número de serie del volumen es: 4C69-5113\n",
      "\n",
      " Directorio de C:\\Users\\SalaD26\\Desktop\\data\n",
      "\n",
      "26/07/2018  11:25 a. m.    <DIR>          .\n",
      "26/07/2018  11:25 a. m.    <DIR>          ..\n",
      "26/07/2018  10:05 a. m.    <DIR>          ab1\n",
      "23/07/2018  11:51 a. m.    <DIR>          ejercicio_fastqc\n",
      "20/07/2018  12:51 p. m.    <DIR>          exp_sacaro\n",
      "20/07/2018  12:50 p. m.    <DIR>          exp_seq\n",
      "20/07/2018  04:58 p. m.    <DIR>          exp710\n",
      "26/07/2018  10:21 a. m.    <DIR>          fasta\n",
      "               0 archivos              0 bytes\n",
      "               8 dirs  82,858,676,224 bytes libres\n"
     ]
    }
   ],
   "source": [
    "ls data\\"
   ]
  },
  {
   "cell_type": "markdown",
   "metadata": {},
   "source": [
    "** Es posible también utilizar `ls data`, pero se recomienda utilizar \"\\\" al final con el fin de indicar que se desea listar los archivos del subdirectorio `data`**"
   ]
  },
  {
   "cell_type": "markdown",
   "metadata": {
    "collapsed": true
   },
   "source": [
    "### También es posible listar los archivos de un directorio superior"
   ]
  },
  {
   "cell_type": "code",
   "execution_count": 33,
   "metadata": {},
   "outputs": [
    {
     "name": "stdout",
     "output_type": "stream",
     "text": [
      " El volumen de la unidad C no tiene etiqueta.\n",
      " El número de serie del volumen es: 4C69-5113\n",
      "\n",
      " Directorio de C:\\Users\\SalaD26\n",
      "\n",
      "20/07/2018  01:07 p. m.    <DIR>          .\n",
      "20/07/2018  01:07 p. m.    <DIR>          ..\n",
      "17/07/2018  03:04 p. m.    <DIR>          .anaconda\n",
      "20/07/2018  05:01 p. m.               656 .bash_history\n",
      "20/07/2018  09:34 p. m.    <DIR>          .conda\n",
      "26/07/2018  09:24 a. m.                43 .condarc\n",
      "17/07/2018  04:09 p. m.    <DIR>          .ipython\n",
      "18/07/2018  12:23 p. m.    <DIR>          .jupyter\n",
      "24/07/2018  03:09 p. m.    <DIR>          .matplotlib\n",
      "17/07/2018  02:43 p. m.    <DIR>          .vscode\n",
      "18/07/2018  12:15 p. m.    <DIR>          3D Objects\n",
      "20/07/2018  01:04 p. m.    <DIR>          Anaconda3\n",
      "17/07/2018  02:57 p. m.    <DIR>          Application Data\n",
      "17/07/2018  02:57 p. m.    <DIR>          CLC_Data\n",
      "18/07/2018  12:15 p. m.    <DIR>          Contacts\n",
      "26/07/2018  09:48 a. m.    <DIR>          Desktop\n",
      "26/07/2018  09:43 a. m.    <DIR>          Documents\n",
      "26/07/2018  09:47 a. m.    <DIR>          Downloads\n",
      "18/07/2018  12:15 p. m.    <DIR>          Favorites\n",
      "18/07/2018  12:15 p. m.    <DIR>          Links\n",
      "18/07/2018  12:15 p. m.    <DIR>          Music\n",
      "16/07/2018  07:33 p. m.    <DIR>          OneDrive\n",
      "18/07/2018  12:15 p. m.    <DIR>          Pictures\n",
      "18/07/2018  12:15 p. m.    <DIR>          Saved Games\n",
      "18/07/2018  12:15 p. m.    <DIR>          Searches\n",
      "18/07/2018  12:15 p. m.    <DIR>          Videos\n",
      "               2 archivos            699 bytes\n",
      "              24 dirs  82,859,237,376 bytes libres\n"
     ]
    }
   ],
   "source": [
    "ls .."
   ]
  },
  {
   "cell_type": "markdown",
   "metadata": {},
   "source": [
    "### ¿Cómo sería el comando para visualizar el directorio `Users`?\n",
    "Corrobore su respuesta en la siguiente celda."
   ]
  },
  {
   "cell_type": "code",
   "execution_count": null,
   "metadata": {},
   "outputs": [],
   "source": []
  },
  {
   "cell_type": "code",
   "execution_count": 34,
   "metadata": {},
   "outputs": [
    {
     "name": "stdout",
     "output_type": "stream",
     "text": [
      "C:\\Users\\SalaD26\n"
     ]
    }
   ],
   "source": [
    "cd "
   ]
  },
  {
   "cell_type": "code",
   "execution_count": 35,
   "metadata": {},
   "outputs": [
    {
     "name": "stdout",
     "output_type": "stream",
     "text": [
      " El volumen de la unidad C no tiene etiqueta.\n",
      " El número de serie del volumen es: 4C69-5113\n",
      "\n",
      " Directorio de C:\\Users\\SalaD26\n",
      "\n",
      "20/07/2018  01:07 p. m.    <DIR>          .\n",
      "20/07/2018  01:07 p. m.    <DIR>          ..\n",
      "17/07/2018  03:04 p. m.    <DIR>          .anaconda\n",
      "20/07/2018  05:01 p. m.               656 .bash_history\n",
      "20/07/2018  09:34 p. m.    <DIR>          .conda\n",
      "26/07/2018  09:24 a. m.                43 .condarc\n",
      "17/07/2018  04:09 p. m.    <DIR>          .ipython\n",
      "18/07/2018  12:23 p. m.    <DIR>          .jupyter\n",
      "24/07/2018  03:09 p. m.    <DIR>          .matplotlib\n",
      "17/07/2018  02:43 p. m.    <DIR>          .vscode\n",
      "18/07/2018  12:15 p. m.    <DIR>          3D Objects\n",
      "20/07/2018  01:04 p. m.    <DIR>          Anaconda3\n",
      "17/07/2018  02:57 p. m.    <DIR>          Application Data\n",
      "17/07/2018  02:57 p. m.    <DIR>          CLC_Data\n",
      "18/07/2018  12:15 p. m.    <DIR>          Contacts\n",
      "26/07/2018  09:48 a. m.    <DIR>          Desktop\n",
      "26/07/2018  09:43 a. m.    <DIR>          Documents\n",
      "26/07/2018  09:47 a. m.    <DIR>          Downloads\n",
      "18/07/2018  12:15 p. m.    <DIR>          Favorites\n",
      "18/07/2018  12:15 p. m.    <DIR>          Links\n",
      "18/07/2018  12:15 p. m.    <DIR>          Music\n",
      "16/07/2018  07:33 p. m.    <DIR>          OneDrive\n",
      "18/07/2018  12:15 p. m.    <DIR>          Pictures\n",
      "18/07/2018  12:15 p. m.    <DIR>          Saved Games\n",
      "18/07/2018  12:15 p. m.    <DIR>          Searches\n",
      "18/07/2018  12:15 p. m.    <DIR>          Videos\n",
      "               2 archivos            699 bytes\n",
      "              24 dirs  82,859,220,992 bytes libres\n"
     ]
    }
   ],
   "source": [
    "ls"
   ]
  },
  {
   "cell_type": "markdown",
   "metadata": {},
   "source": [
    "## Cambio al directorio `data` que se encuentra en el subdirectorio `Desktop\\`"
   ]
  },
  {
   "cell_type": "code",
   "execution_count": 36,
   "metadata": {},
   "outputs": [
    {
     "name": "stdout",
     "output_type": "stream",
     "text": [
      "C:\\Users\\SalaD26\\Desktop\\data\n"
     ]
    }
   ],
   "source": [
    "cd ~/Desktop/data/"
   ]
  },
  {
   "cell_type": "code",
   "execution_count": 37,
   "metadata": {},
   "outputs": [
    {
     "name": "stdout",
     "output_type": "stream",
     "text": [
      " El volumen de la unidad C no tiene etiqueta.\n",
      " El número de serie del volumen es: 4C69-5113\n",
      "\n",
      " Directorio de C:\\Users\\SalaD26\\Desktop\\data\n",
      "\n",
      "26/07/2018  11:25 a. m.    <DIR>          .\n",
      "26/07/2018  11:25 a. m.    <DIR>          ..\n",
      "26/07/2018  10:05 a. m.    <DIR>          ab1\n",
      "23/07/2018  11:51 a. m.    <DIR>          ejercicio_fastqc\n",
      "20/07/2018  12:51 p. m.    <DIR>          exp_sacaro\n",
      "20/07/2018  12:50 p. m.    <DIR>          exp_seq\n",
      "20/07/2018  04:58 p. m.    <DIR>          exp710\n",
      "26/07/2018  10:21 a. m.    <DIR>          fasta\n",
      "               0 archivos              0 bytes\n",
      "               8 dirs  82,859,229,184 bytes libres\n"
     ]
    }
   ],
   "source": [
    "ls"
   ]
  },
  {
   "cell_type": "markdown",
   "metadata": {},
   "source": [
    "### *Recordando.* El comando `pwd` indica el subdirectorio en el que se encuentra"
   ]
  },
  {
   "cell_type": "code",
   "execution_count": 38,
   "metadata": {},
   "outputs": [
    {
     "data": {
      "text/plain": [
       "'C:\\\\Users\\\\SalaD26\\\\Desktop\\\\data'"
      ]
     },
     "execution_count": 38,
     "metadata": {},
     "output_type": "execute_result"
    }
   ],
   "source": [
    "pwd"
   ]
  },
  {
   "cell_type": "markdown",
   "metadata": {},
   "source": [
    "### Para cambiar a un directorio superior (regresar a un directorio) se utiliza el comando \n",
    "`cd ..`"
   ]
  },
  {
   "cell_type": "code",
   "execution_count": 39,
   "metadata": {},
   "outputs": [
    {
     "name": "stdout",
     "output_type": "stream",
     "text": [
      "C:\\Users\\SalaD26\\Desktop\n"
     ]
    }
   ],
   "source": [
    "cd .."
   ]
  },
  {
   "cell_type": "markdown",
   "metadata": {},
   "source": [
    "### Los dos puntos `..` se utilizan para dar una dirección relativa al directorio de trabajo en el que se encuentra. Por ejemplo el comando \n",
    "`ls ..\\`\n",
    "\n",
    "dará la lista del directorio superior, mientras que\n",
    "\n",
    "`ls ..\\..\\`\n",
    "\n",
    "dará la lista de dos directorios \"arriba\" del directorio de trabajo"
   ]
  },
  {
   "cell_type": "code",
   "execution_count": 44,
   "metadata": {},
   "outputs": [
    {
     "name": "stdout",
     "output_type": "stream",
     "text": [
      "C:\\Users\\SalaD26\\Desktop\\data\n"
     ]
    }
   ],
   "source": [
    "cd data/"
   ]
  },
  {
   "cell_type": "code",
   "execution_count": 45,
   "metadata": {},
   "outputs": [
    {
     "name": "stdout",
     "output_type": "stream",
     "text": [
      " El volumen de la unidad C no tiene etiqueta.\n",
      " El número de serie del volumen es: 4C69-5113\n",
      "\n",
      " Directorio de C:\\Users\\SalaD26\\Desktop\n",
      "\n",
      "26/07/2018  09:48 a. m.    <DIR>          .\n",
      "26/07/2018  09:48 a. m.    <DIR>          ..\n",
      "20/07/2018  09:17 a. m.             2,211 Anaconda Navigator.lnk\n",
      "26/07/2018  10:23 a. m.    <DIR>          bigdata\n",
      "26/07/2018  11:07 a. m.    <DIR>          Curso\n",
      "26/07/2018  11:25 a. m.    <DIR>          data\n",
      "20/07/2018  05:01 p. m.    <DIR>          documentos\n",
      "18/07/2018  03:20 p. m.             1,764 Git Bash.lnk\n",
      "26/07/2018  11:47 a. m.    <DIR>          jupyter\n",
      "16/07/2018  07:31 p. m.             1,417 Microsoft Edge.lnk\n",
      "26/07/2018  09:46 a. m.    <DIR>          programas_bioinformatica\n",
      "               3 archivos          5,392 bytes\n",
      "               8 dirs  82,860,138,496 bytes libres\n"
     ]
    }
   ],
   "source": [
    "ls ..\\"
   ]
  },
  {
   "cell_type": "code",
   "execution_count": 46,
   "metadata": {},
   "outputs": [
    {
     "name": "stdout",
     "output_type": "stream",
     "text": [
      " El volumen de la unidad C no tiene etiqueta.\n",
      " El número de serie del volumen es: 4C69-5113\n",
      "\n",
      " Directorio de C:\\Users\\SalaD26\n",
      "\n",
      "20/07/2018  01:07 p. m.    <DIR>          .\n",
      "20/07/2018  01:07 p. m.    <DIR>          ..\n",
      "17/07/2018  03:04 p. m.    <DIR>          .anaconda\n",
      "20/07/2018  05:01 p. m.               656 .bash_history\n",
      "20/07/2018  09:34 p. m.    <DIR>          .conda\n",
      "26/07/2018  09:24 a. m.                43 .condarc\n",
      "17/07/2018  04:09 p. m.    <DIR>          .ipython\n",
      "18/07/2018  12:23 p. m.    <DIR>          .jupyter\n",
      "24/07/2018  03:09 p. m.    <DIR>          .matplotlib\n",
      "17/07/2018  02:43 p. m.    <DIR>          .vscode\n",
      "18/07/2018  12:15 p. m.    <DIR>          3D Objects\n",
      "20/07/2018  01:04 p. m.    <DIR>          Anaconda3\n",
      "17/07/2018  02:57 p. m.    <DIR>          Application Data\n",
      "17/07/2018  02:57 p. m.    <DIR>          CLC_Data\n",
      "18/07/2018  12:15 p. m.    <DIR>          Contacts\n",
      "26/07/2018  09:48 a. m.    <DIR>          Desktop\n",
      "26/07/2018  09:43 a. m.    <DIR>          Documents\n",
      "26/07/2018  09:47 a. m.    <DIR>          Downloads\n",
      "18/07/2018  12:15 p. m.    <DIR>          Favorites\n",
      "18/07/2018  12:15 p. m.    <DIR>          Links\n",
      "18/07/2018  12:15 p. m.    <DIR>          Music\n",
      "16/07/2018  07:33 p. m.    <DIR>          OneDrive\n",
      "18/07/2018  12:15 p. m.    <DIR>          Pictures\n",
      "18/07/2018  12:15 p. m.    <DIR>          Saved Games\n",
      "18/07/2018  12:15 p. m.    <DIR>          Searches\n",
      "18/07/2018  12:15 p. m.    <DIR>          Videos\n",
      "               2 archivos            699 bytes\n",
      "              24 dirs  82,860,134,400 bytes libres\n"
     ]
    }
   ],
   "source": [
    "ls ..\\..\\"
   ]
  },
  {
   "cell_type": "code",
   "execution_count": null,
   "metadata": {},
   "outputs": [],
   "source": []
  },
  {
   "cell_type": "code",
   "execution_count": 47,
   "metadata": {},
   "outputs": [
    {
     "name": "stdout",
     "output_type": "stream",
     "text": [
      "C:\\Users\\SalaD26\\Desktop\\data\n"
     ]
    }
   ],
   "source": [
    "cd ~/Desktop/data/"
   ]
  },
  {
   "cell_type": "code",
   "execution_count": 48,
   "metadata": {},
   "outputs": [
    {
     "name": "stdout",
     "output_type": "stream",
     "text": [
      " El volumen de la unidad C no tiene etiqueta.\n",
      " El número de serie del volumen es: 4C69-5113\n",
      "\n",
      " Directorio de C:\\Users\\SalaD26\\Desktop\\data\n",
      "\n",
      "26/07/2018  11:25 a. m.    <DIR>          .\n",
      "26/07/2018  11:25 a. m.    <DIR>          ..\n",
      "26/07/2018  10:05 a. m.    <DIR>          ab1\n",
      "23/07/2018  11:51 a. m.    <DIR>          ejercicio_fastqc\n",
      "20/07/2018  12:51 p. m.    <DIR>          exp_sacaro\n",
      "20/07/2018  12:50 p. m.    <DIR>          exp_seq\n",
      "20/07/2018  04:58 p. m.    <DIR>          exp710\n",
      "26/07/2018  10:21 a. m.    <DIR>          fasta\n",
      "               0 archivos              0 bytes\n",
      "               8 dirs  82,860,130,304 bytes libres\n"
     ]
    }
   ],
   "source": [
    "ls"
   ]
  },
  {
   "cell_type": "markdown",
   "metadata": {},
   "source": [
    "### Cambiar a un directorio con dirección relativa"
   ]
  },
  {
   "cell_type": "code",
   "execution_count": 49,
   "metadata": {},
   "outputs": [
    {
     "name": "stdout",
     "output_type": "stream",
     "text": [
      "C:\\Users\\SalaD26\\Desktop\n"
     ]
    }
   ],
   "source": [
    "cd .."
   ]
  },
  {
   "cell_type": "code",
   "execution_count": 50,
   "metadata": {},
   "outputs": [
    {
     "name": "stdout",
     "output_type": "stream",
     "text": [
      "C:\\Users\\SalaD26\\Desktop\\jupyter\\img\n"
     ]
    }
   ],
   "source": [
    "cd jupyter/img/"
   ]
  },
  {
   "cell_type": "code",
   "execution_count": 52,
   "metadata": {},
   "outputs": [
    {
     "name": "stdout",
     "output_type": "stream",
     "text": [
      "C:\\Users\\SalaD26\\Desktop\\data\\ab1\n"
     ]
    }
   ],
   "source": [
    "cd ../../data/ab1\n"
   ]
  },
  {
   "cell_type": "code",
   "execution_count": 53,
   "metadata": {},
   "outputs": [
    {
     "name": "stdout",
     "output_type": "stream",
     "text": [
      " El volumen de la unidad C no tiene etiqueta.\n",
      " El número de serie del volumen es: 4C69-5113\n",
      "\n",
      " Directorio de C:\\Users\\SalaD26\\Desktop\\data\\ab1\n",
      "\n",
      "26/07/2018  10:05 a. m.    <DIR>          .\n",
      "26/07/2018  10:05 a. m.    <DIR>          ..\n",
      "27/08/2014  11:55 a. m.           184,570 Nav1.8_(B11)-DG7A_G12_014.ab1\n",
      "27/08/2014  11:37 a. m.           185,174 Nav1.8_(D12)-RW01_H03_015.ab1\n",
      "               2 archivos        369,744 bytes\n",
      "               2 dirs  82,860,314,624 bytes libres\n"
     ]
    }
   ],
   "source": [
    "ls"
   ]
  },
  {
   "cell_type": "markdown",
   "metadata": {
    "collapsed": true
   },
   "source": [
    "#### Cambiar directorio con direccion absoluta"
   ]
  },
  {
   "cell_type": "code",
   "execution_count": 54,
   "metadata": {},
   "outputs": [
    {
     "name": "stdout",
     "output_type": "stream",
     "text": [
      "C:\\Users\\SalaD26\n"
     ]
    }
   ],
   "source": [
    "cd "
   ]
  },
  {
   "cell_type": "code",
   "execution_count": 55,
   "metadata": {},
   "outputs": [
    {
     "name": "stdout",
     "output_type": "stream",
     "text": [
      "C:\\Users\\SalaD26\\Desktop\\data\n"
     ]
    }
   ],
   "source": [
    "cd /Users/SalaD26/Desktop/data"
   ]
  },
  {
   "cell_type": "code",
   "execution_count": 56,
   "metadata": {},
   "outputs": [
    {
     "name": "stdout",
     "output_type": "stream",
     "text": [
      "C:\\Users\\SalaD26\\Desktop\\jupyter\\img\n"
     ]
    }
   ],
   "source": [
    "cd /Users/SalaD26/Desktop/jupyter/img"
   ]
  },
  {
   "cell_type": "markdown",
   "metadata": {},
   "source": [
    "**También se puede usar:**"
   ]
  },
  {
   "cell_type": "code",
   "execution_count": 58,
   "metadata": {},
   "outputs": [
    {
     "name": "stdout",
     "output_type": "stream",
     "text": [
      "C:\\Users\\SalaD26\\Desktop\\jupyter\\img\n"
     ]
    }
   ],
   "source": [
    "cd ~/Desktop/jupyter/img"
   ]
  },
  {
   "cell_type": "markdown",
   "metadata": {},
   "source": [
    "### Utilice Markdown y explique en la siguiente celda para qué sirve la virgulilla \"~\" al inicio de una cadena de directorios y archivo?"
   ]
  },
  {
   "cell_type": "code",
   "execution_count": null,
   "metadata": {},
   "outputs": [],
   "source": []
  },
  {
   "cell_type": "markdown",
   "metadata": {},
   "source": [
    "**En Windows se puede usar otra forma de escribir los directorios:**"
   ]
  },
  {
   "cell_type": "code",
   "execution_count": 3,
   "metadata": {},
   "outputs": [
    {
     "name": "stdout",
     "output_type": "stream",
     "text": [
      "C:\\Users\\labgenac\\Desktop\n"
     ]
    }
   ],
   "source": [
    "cd \"~/Desktop\""
   ]
  },
  {
   "cell_type": "code",
   "execution_count": 4,
   "metadata": {},
   "outputs": [
    {
     "name": "stdout",
     "output_type": "stream",
     "text": [
      " El volumen de la unidad C es Windows\n",
      " El número de serie del volumen es: 40EA-5D95\n",
      "\n",
      " Directorio de C:\\Users\\labgenac\\Desktop\\data\\ab1\n",
      "\n",
      "20/07/2018  09:51 a. m.    <DIR>          .\n",
      "20/07/2018  09:51 a. m.    <DIR>          ..\n",
      "               0 archivos              0 bytes\n",
      "               2 dirs  865,043,922,944 bytes libres\n"
     ]
    }
   ],
   "source": [
    "ls \"data/ab1/\""
   ]
  },
  {
   "cell_type": "code",
   "execution_count": 62,
   "metadata": {},
   "outputs": [
    {
     "name": "stdout",
     "output_type": "stream",
     "text": [
      " El volumen de la unidad C no tiene etiqueta.\n",
      " El número de serie del volumen es: 4C69-5113\n",
      "\n",
      " Directorio de C:\\Users\\SalaD26\\Desktop\\data\\ab1\n",
      "\n",
      "26/07/2018  10:05 a. m.    <DIR>          .\n",
      "26/07/2018  10:05 a. m.    <DIR>          ..\n",
      "27/08/2014  11:55 a. m.           184,570 Nav1.8_(B11)-DG7A_G12_014.ab1\n",
      "27/08/2014  11:37 a. m.           185,174 Nav1.8_(D12)-RW01_H03_015.ab1\n",
      "               2 archivos        369,744 bytes\n",
      "               2 dirs  82,860,122,112 bytes libres\n"
     ]
    }
   ],
   "source": [
    "ls data\\ab1\\"
   ]
  },
  {
   "cell_type": "markdown",
   "metadata": {},
   "source": [
    "### copia archivos entre directorios"
   ]
  },
  {
   "cell_type": "code",
   "execution_count": 5,
   "metadata": {},
   "outputs": [
    {
     "name": "stdout",
     "output_type": "stream",
     "text": [
      "C:\\Users\\labgenac\\Desktop\\Curso\n"
     ]
    }
   ],
   "source": [
    "cd \"~/Desktop/Curso/\""
   ]
  },
  {
   "cell_type": "code",
   "execution_count": 6,
   "metadata": {},
   "outputs": [
    {
     "name": "stdout",
     "output_type": "stream",
     "text": [
      " El volumen de la unidad C es Windows\n",
      " El número de serie del volumen es: 40EA-5D95\n",
      "\n",
      " Directorio de C:\\Users\\labgenac\\Desktop\\Curso\n",
      "\n",
      "27/07/2018  07:45 p. m.    <DIR>          .\n",
      "27/07/2018  07:45 p. m.    <DIR>          ..\n",
      "17/07/2018  04:08 p. m.    <DIR>          .ipynb_checkpoints\n",
      "24/07/2018  06:07 p. m.    <DIR>          articulos_manuales\n",
      "24/07/2018  06:07 p. m.    <DIR>          eduardoZuniga\n",
      "24/07/2018  06:07 p. m.    <DIR>          material\n",
      "24/07/2018  06:07 p. m.    <DIR>          otros\n",
      "20/07/2018  04:54 p. m.            34,378 paquetes a instalar.pptx\n",
      "24/07/2018  04:02 p. m.            10,434 paquetesainstalar.xlsx\n",
      "27/07/2018  07:43 p. m.    <DIR>          programas_bioinformatica\n",
      "               2 archivos         44,812 bytes\n",
      "               8 dirs  865,025,884,160 bytes libres\n"
     ]
    }
   ],
   "source": [
    "ls "
   ]
  },
  {
   "cell_type": "code",
   "execution_count": 80,
   "metadata": {},
   "outputs": [
    {
     "name": "stdout",
     "output_type": "stream",
     "text": [
      "        1 archivo(s) copiado(s).\n"
     ]
    }
   ],
   "source": [
    "copy \"prueba.docx\" \"borrar/\""
   ]
  },
  {
   "cell_type": "code",
   "execution_count": 82,
   "metadata": {},
   "outputs": [
    {
     "name": "stdout",
     "output_type": "stream",
     "text": [
      " El volumen de la unidad C no tiene etiqueta.\n",
      " El número de serie del volumen es: 4C69-5113\n",
      "\n",
      " Directorio de C:\\Users\\SalaD26\\Desktop\\Curso\\borrar\n",
      "\n",
      "26/07/2018  12:04 p. m.    <DIR>          .\n",
      "26/07/2018  12:04 p. m.    <DIR>          ..\n",
      "26/07/2018  11:56 a. m.            11,396 prueba.docx\n",
      "               1 archivos         11,396 bytes\n",
      "               2 dirs  82,868,916,224 bytes libres\n"
     ]
    }
   ],
   "source": [
    "ls \"borrar/\""
   ]
  },
  {
   "cell_type": "code",
   "execution_count": 83,
   "metadata": {},
   "outputs": [
    {
     "name": "stdout",
     "output_type": "stream",
     "text": [
      " El volumen de la unidad C no tiene etiqueta.\n",
      " El número de serie del volumen es: 4C69-5113\n",
      "\n",
      " Directorio de C:\\Users\\SalaD26\\Desktop\\Curso\n",
      "\n",
      "26/07/2018  11:56 a. m.    <DIR>          .\n",
      "26/07/2018  11:56 a. m.    <DIR>          ..\n",
      "17/07/2018  04:08 p. m.    <DIR>          .ipynb_checkpoints\n",
      "26/07/2018  12:04 p. m.    <DIR>          borrar\n",
      "26/07/2018  11:56 a. m.            11,396 prueba.docx\n",
      "               1 archivos         11,396 bytes\n",
      "               4 dirs  82,868,908,032 bytes libres\n"
     ]
    }
   ],
   "source": [
    "ls"
   ]
  },
  {
   "cell_type": "code",
   "execution_count": null,
   "metadata": {},
   "outputs": [],
   "source": []
  },
  {
   "cell_type": "code",
   "execution_count": null,
   "metadata": {},
   "outputs": [],
   "source": []
  },
  {
   "cell_type": "code",
   "execution_count": null,
   "metadata": {},
   "outputs": [],
   "source": []
  },
  {
   "cell_type": "code",
   "execution_count": null,
   "metadata": {},
   "outputs": [],
   "source": []
  },
  {
   "cell_type": "code",
   "execution_count": null,
   "metadata": {},
   "outputs": [],
   "source": []
  },
  {
   "cell_type": "code",
   "execution_count": null,
   "metadata": {},
   "outputs": [],
   "source": []
  },
  {
   "cell_type": "code",
   "execution_count": null,
   "metadata": {},
   "outputs": [],
   "source": []
  },
  {
   "cell_type": "code",
   "execution_count": null,
   "metadata": {},
   "outputs": [],
   "source": []
  },
  {
   "cell_type": "code",
   "execution_count": null,
   "metadata": {},
   "outputs": [],
   "source": []
  },
  {
   "cell_type": "code",
   "execution_count": null,
   "metadata": {},
   "outputs": [],
   "source": []
  },
  {
   "cell_type": "code",
   "execution_count": null,
   "metadata": {},
   "outputs": [],
   "source": []
  },
  {
   "cell_type": "code",
   "execution_count": null,
   "metadata": {},
   "outputs": [],
   "source": []
  },
  {
   "cell_type": "code",
   "execution_count": null,
   "metadata": {
    "collapsed": true
   },
   "outputs": [],
   "source": []
  },
  {
   "cell_type": "markdown",
   "metadata": {},
   "source": [
    "# Otros ejercicios"
   ]
  },
  {
   "cell_type": "markdown",
   "metadata": {},
   "source": [
    "### cambio de nombre de archivos ab1"
   ]
  },
  {
   "cell_type": "code",
   "execution_count": null,
   "metadata": {
    "collapsed": true
   },
   "outputs": [],
   "source": [
    "import os, sys"
   ]
  },
  {
   "cell_type": "code",
   "execution_count": null,
   "metadata": {
    "collapsed": true
   },
   "outputs": [],
   "source": [
    "cd \"C:/Users/SALA GRAL/Desktop/bioinformatica_aplicada/\""
   ]
  },
  {
   "cell_type": "code",
   "execution_count": null,
   "metadata": {
    "collapsed": true
   },
   "outputs": [],
   "source": [
    "pwd"
   ]
  },
  {
   "cell_type": "code",
   "execution_count": null,
   "metadata": {
    "collapsed": true
   },
   "outputs": [],
   "source": [
    "ls \"data/ab1/\""
   ]
  },
  {
   "cell_type": "code",
   "execution_count": null,
   "metadata": {
    "collapsed": true
   },
   "outputs": [],
   "source": [
    "lista = os.listdir(path =\"data/ab1/\")\n",
    "lista"
   ]
  },
  {
   "cell_type": "code",
   "execution_count": null,
   "metadata": {
    "collapsed": true
   },
   "outputs": [],
   "source": [
    "#proceso para cambiar todos los archivos de subsubdirectorios a un subdirectorio\n",
    "# Se verifica con la impresion que son los archivos que se desean cambiar\n",
    "# entonces se elimina el simbolo de \"#\" de la linea \"os.rename (nom1, row1)\" para ejecutar el proceso\n",
    "n=0\n",
    "print (\"renaming             \",\"      \\t\",\"        to\" )\n",
    "\n",
    "for row in lista:\n",
    "    if row[0]==\".\":\n",
    "        continue\n",
    "    nom=row[:row.find(\"_\")]\n",
    "    if n%2!=0:\n",
    "        nom1=\"data/seq/\" +nom+\"R\"+row[-4:]\n",
    "    else:\n",
    "        nom1=\"data/seq/\" +nom+\"F\"+row[-4:]\n",
    "\n",
    "    #row = row.replace(\"(\", \"\\(\")\n",
    "    #row = row.replace(\")\", \"\\)\")\n",
    "    row = \"data/ab1/\"+row\n",
    "    print (row, \"      \\t\", nom1)\n",
    "    #os.rename (row, nom1)\n",
    "    n+=1\n",
    "print(\"finished\", n, \"files\")"
   ]
  },
  {
   "cell_type": "code",
   "execution_count": null,
   "metadata": {
    "collapsed": true,
    "scrolled": false
   },
   "outputs": [],
   "source": [
    "ls \"data/ab1/\""
   ]
  },
  {
   "cell_type": "code",
   "execution_count": null,
   "metadata": {
    "collapsed": true
   },
   "outputs": [],
   "source": [
    "ls \"data/seq/\""
   ]
  },
  {
   "cell_type": "markdown",
   "metadata": {},
   "source": [
    "### Describa qué ocurrió en los directorios \"data/ab1/\" y \"data/seq\""
   ]
  },
  {
   "cell_type": "code",
   "execution_count": null,
   "metadata": {
    "collapsed": true
   },
   "outputs": [],
   "source": []
  },
  {
   "cell_type": "code",
   "execution_count": null,
   "metadata": {
    "collapsed": true
   },
   "outputs": [],
   "source": []
  },
  {
   "cell_type": "code",
   "execution_count": null,
   "metadata": {
    "collapsed": true
   },
   "outputs": [],
   "source": [
    "ls"
   ]
  },
  {
   "cell_type": "code",
   "execution_count": null,
   "metadata": {
    "collapsed": true
   },
   "outputs": [],
   "source": []
  },
  {
   "cell_type": "code",
   "execution_count": 91,
   "metadata": {},
   "outputs": [],
   "source": [
    "from IPython.display import Image"
   ]
  },
  {
   "cell_type": "code",
   "execution_count": 14,
   "metadata": {},
   "outputs": [
    {
     "name": "stdout",
     "output_type": "stream",
     "text": [
      "C:\\Users\\labgenac\n"
     ]
    }
   ],
   "source": [
    "cd "
   ]
  },
  {
   "cell_type": "code",
   "execution_count": 18,
   "metadata": {},
   "outputs": [
    {
     "name": "stdout",
     "output_type": "stream",
     "text": [
      "C:\\Users\\labgenac\\Desktop\\jupyter\n"
     ]
    }
   ],
   "source": [
    "cd Desktop/jupyter/"
   ]
  },
  {
   "cell_type": "markdown",
   "metadata": {
    "collapsed": true
   },
   "source": [
    "# Manejo de archivos"
   ]
  },
  {
   "cell_type": "markdown",
   "metadata": {
    "collapsed": true
   },
   "source": [
    "## desafortunadamente Windows tiene otra forma de realizar el manejo de archivos, por lo que se utilizará la opción de bash para los siguientes ejercicios"
   ]
  },
  {
   "cell_type": "markdown",
   "metadata": {},
   "source": [
    "<center><img src=\"img/gitbash2.png\"></center> "
   ]
  },
  {
   "cell_type": "raw",
   "metadata": {
    "collapsed": true
   },
   "source": [
    "# conteo de lineas del archivo\n",
    "cd \n",
    "\n",
    "wc bacteria_NR_043902.fa\n",
    "\n",
    "man wc\n",
    "\n",
    "# conteo de lineas\n",
    "wc -l bacteria_NR_043902.fa \n",
    "\n",
    "# conteo de palabras\n",
    "wc -w bacteria_NR_043902.fa \n",
    "\n",
    "# conteo de caracteres\n",
    "wc -c bacteria_NR_043902.fa \n",
    "\n",
    "grep \">\" bacteria_NR_043902.fa\n",
    "\n",
    "grep \"A\" bacteria_NR_043902.fa| wc -c\n",
    "\n",
    "man grep\n"
   ]
  },
  {
   "cell_type": "code",
   "execution_count": null,
   "metadata": {
    "collapsed": true
   },
   "outputs": [],
   "source": []
  }
 ],
 "metadata": {
  "kernelspec": {
   "display_name": "Python 3",
   "language": "python",
   "name": "python3"
  },
  "language_info": {
   "codemirror_mode": {
    "name": "ipython",
    "version": 3
   },
   "file_extension": ".py",
   "mimetype": "text/x-python",
   "name": "python",
   "nbconvert_exporter": "python",
   "pygments_lexer": "ipython3",
   "version": "3.6.5"
  }
 },
 "nbformat": 4,
 "nbformat_minor": 2
}
